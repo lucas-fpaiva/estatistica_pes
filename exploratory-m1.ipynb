{
 "cells": [
  {
   "cell_type": "code",
   "execution_count": 1,
   "id": "8fa80746",
   "metadata": {
    "_cell_guid": "b1076dfc-b9ad-4769-8c92-a6c4dae69d19",
    "_uuid": "8f2839f25d086af736a60e9eeb907d3b93b6e0e5",
    "collapsed": true,
    "execution": {
     "iopub.execute_input": "2022-07-26T15:44:59.883316Z",
     "iopub.status.busy": "2022-07-26T15:44:59.882337Z",
     "iopub.status.idle": "2022-07-26T15:44:59.923946Z",
     "shell.execute_reply": "2022-07-26T15:44:59.922752Z"
    },
    "jupyter": {
     "outputs_hidden": true
    },
    "papermill": {
     "duration": 0.053916,
     "end_time": "2022-07-26T15:44:59.928487",
     "exception": false,
     "start_time": "2022-07-26T15:44:59.874571",
     "status": "completed"
    },
    "tags": []
   },
   "outputs": [
    {
     "name": "stdout",
     "output_type": "stream",
     "text": [
      "/kaggle/input/nasa-cmaps/CMaps/RUL_FD002.txt\n",
      "/kaggle/input/nasa-cmaps/CMaps/test_FD003.txt\n",
      "/kaggle/input/nasa-cmaps/CMaps/Damage Propagation Modeling.pdf\n",
      "/kaggle/input/nasa-cmaps/CMaps/readme.txt\n",
      "/kaggle/input/nasa-cmaps/CMaps/train_FD003.txt\n",
      "/kaggle/input/nasa-cmaps/CMaps/test_FD004.txt\n",
      "/kaggle/input/nasa-cmaps/CMaps/train_FD004.txt\n",
      "/kaggle/input/nasa-cmaps/CMaps/x.txt\n",
      "/kaggle/input/nasa-cmaps/CMaps/test_FD002.txt\n",
      "/kaggle/input/nasa-cmaps/CMaps/train_FD001.txt\n",
      "/kaggle/input/nasa-cmaps/CMaps/train_FD002.txt\n",
      "/kaggle/input/nasa-cmaps/CMaps/RUL_FD001.txt\n",
      "/kaggle/input/nasa-cmaps/CMaps/RUL_FD004.txt\n",
      "/kaggle/input/nasa-cmaps/CMaps/RUL_FD003.txt\n",
      "/kaggle/input/nasa-cmaps/CMaps/test_FD001.txt\n",
      "/kaggle/input/nasa-cmaps/cmaps/CMaps/RUL_FD002.txt\n",
      "/kaggle/input/nasa-cmaps/cmaps/CMaps/test_FD003.txt\n",
      "/kaggle/input/nasa-cmaps/cmaps/CMaps/Damage Propagation Modeling.pdf\n",
      "/kaggle/input/nasa-cmaps/cmaps/CMaps/readme.txt\n",
      "/kaggle/input/nasa-cmaps/cmaps/CMaps/train_FD003.txt\n",
      "/kaggle/input/nasa-cmaps/cmaps/CMaps/test_FD004.txt\n",
      "/kaggle/input/nasa-cmaps/cmaps/CMaps/train_FD004.txt\n",
      "/kaggle/input/nasa-cmaps/cmaps/CMaps/x.txt\n",
      "/kaggle/input/nasa-cmaps/cmaps/CMaps/test_FD002.txt\n",
      "/kaggle/input/nasa-cmaps/cmaps/CMaps/train_FD001.txt\n",
      "/kaggle/input/nasa-cmaps/cmaps/CMaps/train_FD002.txt\n",
      "/kaggle/input/nasa-cmaps/cmaps/CMaps/RUL_FD001.txt\n",
      "/kaggle/input/nasa-cmaps/cmaps/CMaps/RUL_FD004.txt\n",
      "/kaggle/input/nasa-cmaps/cmaps/CMaps/RUL_FD003.txt\n",
      "/kaggle/input/nasa-cmaps/cmaps/CMaps/test_FD001.txt\n"
     ]
    }
   ],
   "source": [
    "# This Python 3 environment comes with many helpful analytics libraries installed\n",
    "# It is defined by the kaggle/python Docker image: https://github.com/kaggle/docker-python\n",
    "# For example, here's several helpful packages to load\n",
    "\n",
    "\n",
    "# Input data files are available in the read-only \"../input/\" directory\n",
    "# For example, running this (by clicking run or pressing Shift+Enter) will list all files under the input directory\n",
    "\n",
    "import os\n",
    "for dirname, _, filenames in os.walk('/kaggle/input'):\n",
    "    for filename in filenames:\n",
    "        print(os.path.join(dirname, filename))\n",
    "\n",
    "# You can write up to 20GB to the current directory (/kaggle/working/) that gets preserved as output when you create a version using \"Save & Run All\" \n",
    "# You can also write temporary files to /kaggle/temp/, but they won't be saved outside of the current session"
   ]
  },
  {
   "cell_type": "markdown",
   "id": "2aba69e1",
   "metadata": {
    "papermill": {
     "duration": 0.004942,
     "end_time": "2022-07-26T15:44:59.939232",
     "exception": false,
     "start_time": "2022-07-26T15:44:59.934290",
     "status": "completed"
    },
    "tags": []
   },
   "source": [
    "# Análise dos dados de treino do Motor1"
   ]
  },
  {
   "cell_type": "code",
   "execution_count": 2,
   "id": "e71a6980",
   "metadata": {
    "execution": {
     "iopub.execute_input": "2022-07-26T15:44:59.952024Z",
     "iopub.status.busy": "2022-07-26T15:44:59.951348Z",
     "iopub.status.idle": "2022-07-26T15:45:01.178413Z",
     "shell.execute_reply": "2022-07-26T15:45:01.177419Z"
    },
    "papermill": {
     "duration": 1.236209,
     "end_time": "2022-07-26T15:45:01.180942",
     "exception": false,
     "start_time": "2022-07-26T15:44:59.944733",
     "status": "completed"
    },
    "tags": []
   },
   "outputs": [],
   "source": [
    "import numpy as np # linear algebra\n",
    "import pandas as pd # data processing, CSV file I/O (e.g. pd.read_csv)\n",
    "import seaborn as sns #importando o seaborn\n",
    "import matplotlib.pyplot as plt\n",
    "import math"
   ]
  },
  {
   "cell_type": "code",
   "execution_count": 3,
   "id": "32c0e892",
   "metadata": {
    "execution": {
     "iopub.execute_input": "2022-07-26T15:45:01.193971Z",
     "iopub.status.busy": "2022-07-26T15:45:01.193030Z",
     "iopub.status.idle": "2022-07-26T15:45:01.199223Z",
     "shell.execute_reply": "2022-07-26T15:45:01.197986Z"
    },
    "papermill": {
     "duration": 0.015397,
     "end_time": "2022-07-26T15:45:01.201705",
     "exception": false,
     "start_time": "2022-07-26T15:45:01.186308",
     "status": "completed"
    },
    "tags": []
   },
   "outputs": [],
   "source": [
    "def add_rul(g):\n",
    "    g['RUL'] = max(g['cycle']) - g['cycle']\n",
    "    return g\n",
    "\n",
    "cv = lambda x: np.std(x, ddof=1) / np.mean(x) * 100"
   ]
  },
  {
   "cell_type": "code",
   "execution_count": 4,
   "id": "5526ef98",
   "metadata": {
    "execution": {
     "iopub.execute_input": "2022-07-26T15:45:01.214931Z",
     "iopub.status.busy": "2022-07-26T15:45:01.213810Z",
     "iopub.status.idle": "2022-07-26T15:45:01.221761Z",
     "shell.execute_reply": "2022-07-26T15:45:01.220653Z"
    },
    "papermill": {
     "duration": 0.017049,
     "end_time": "2022-07-26T15:45:01.224282",
     "exception": false,
     "start_time": "2022-07-26T15:45:01.207233",
     "status": "completed"
    },
    "tags": []
   },
   "outputs": [],
   "source": [
    "columns=[\"id\",\"cycle\",\"op1\",\"op2\",\"op3\",\"sensor1\",\"sensor2\",\"sensor3\",\"sensor4\",\"sensor5\",\"sensor6\",\"sensor7\",\"sensor8\",\n",
    "         \"sensor9\",\"sensor10\",\"sensor11\",\"sensor12\",\"sensor13\",\"sensor14\",\"sensor15\",\"sensor16\",\"sensor17\",\"sensor18\",\"sensor19\"\n",
    "         ,\"sensor20\",\"sensor21\"]\n",
    "\n",
    "#Lê os dados, adiciona a coluna RUL e remove as colunas cycle, op1, op2 e op3\n",
    "def load_data (clean=True):\n",
    "    data = pd.read_csv(\"../input/nasa-cmaps/CMaps/train_FD001.txt\", sep= \"\\s+\", header = None,names=columns )\n",
    "    data = data.groupby('id').apply(add_rul)\n",
    "    if clean==True:\n",
    "        data = data.drop([\"cycle\",\"op1\",\"op2\",\"op3\"], axis=1)\n",
    "    return data  "
   ]
  },
  {
   "cell_type": "code",
   "execution_count": 5,
   "id": "5a9f36e0",
   "metadata": {
    "execution": {
     "iopub.execute_input": "2022-07-26T15:45:01.236852Z",
     "iopub.status.busy": "2022-07-26T15:45:01.236462Z",
     "iopub.status.idle": "2022-07-26T15:45:01.242656Z",
     "shell.execute_reply": "2022-07-26T15:45:01.241356Z"
    },
    "papermill": {
     "duration": 0.015573,
     "end_time": "2022-07-26T15:45:01.245210",
     "exception": false,
     "start_time": "2022-07-26T15:45:01.229637",
     "status": "completed"
    },
    "tags": []
   },
   "outputs": [],
   "source": [
    "def corr_clean (data):\n",
    "    for col in columns[5:]:\n",
    "        if math.isnan(data.corr()['RUL'][col]):\n",
    "            data = data.drop([col], axis=1)\n",
    "    data = data.corr()\n",
    "    return data"
   ]
  },
  {
   "cell_type": "code",
   "execution_count": 6,
   "id": "91e4a984",
   "metadata": {
    "execution": {
     "iopub.execute_input": "2022-07-26T15:45:01.258380Z",
     "iopub.status.busy": "2022-07-26T15:45:01.257944Z",
     "iopub.status.idle": "2022-07-26T15:45:01.578738Z",
     "shell.execute_reply": "2022-07-26T15:45:01.577933Z"
    },
    "papermill": {
     "duration": 0.330179,
     "end_time": "2022-07-26T15:45:01.581117",
     "exception": false,
     "start_time": "2022-07-26T15:45:01.250938",
     "status": "completed"
    },
    "tags": []
   },
   "outputs": [
    {
     "data": {
      "text/html": [
       "<div>\n",
       "<style scoped>\n",
       "    .dataframe tbody tr th:only-of-type {\n",
       "        vertical-align: middle;\n",
       "    }\n",
       "\n",
       "    .dataframe tbody tr th {\n",
       "        vertical-align: top;\n",
       "    }\n",
       "\n",
       "    .dataframe thead th {\n",
       "        text-align: right;\n",
       "    }\n",
       "</style>\n",
       "<table border=\"1\" class=\"dataframe\">\n",
       "  <thead>\n",
       "    <tr style=\"text-align: right;\">\n",
       "      <th></th>\n",
       "      <th>id</th>\n",
       "      <th>sensor1</th>\n",
       "      <th>sensor2</th>\n",
       "      <th>sensor3</th>\n",
       "      <th>sensor4</th>\n",
       "      <th>sensor5</th>\n",
       "      <th>sensor6</th>\n",
       "      <th>sensor7</th>\n",
       "      <th>sensor8</th>\n",
       "      <th>sensor9</th>\n",
       "      <th>...</th>\n",
       "      <th>sensor13</th>\n",
       "      <th>sensor14</th>\n",
       "      <th>sensor15</th>\n",
       "      <th>sensor16</th>\n",
       "      <th>sensor17</th>\n",
       "      <th>sensor18</th>\n",
       "      <th>sensor19</th>\n",
       "      <th>sensor20</th>\n",
       "      <th>sensor21</th>\n",
       "      <th>RUL</th>\n",
       "    </tr>\n",
       "  </thead>\n",
       "  <tbody>\n",
       "    <tr>\n",
       "      <th>0</th>\n",
       "      <td>1</td>\n",
       "      <td>518.67</td>\n",
       "      <td>641.82</td>\n",
       "      <td>1589.70</td>\n",
       "      <td>1400.60</td>\n",
       "      <td>14.62</td>\n",
       "      <td>21.61</td>\n",
       "      <td>554.36</td>\n",
       "      <td>2388.06</td>\n",
       "      <td>9046.19</td>\n",
       "      <td>...</td>\n",
       "      <td>2388.02</td>\n",
       "      <td>8138.62</td>\n",
       "      <td>8.4195</td>\n",
       "      <td>0.03</td>\n",
       "      <td>392</td>\n",
       "      <td>2388</td>\n",
       "      <td>100.0</td>\n",
       "      <td>39.06</td>\n",
       "      <td>23.4190</td>\n",
       "      <td>191</td>\n",
       "    </tr>\n",
       "    <tr>\n",
       "      <th>1</th>\n",
       "      <td>1</td>\n",
       "      <td>518.67</td>\n",
       "      <td>642.15</td>\n",
       "      <td>1591.82</td>\n",
       "      <td>1403.14</td>\n",
       "      <td>14.62</td>\n",
       "      <td>21.61</td>\n",
       "      <td>553.75</td>\n",
       "      <td>2388.04</td>\n",
       "      <td>9044.07</td>\n",
       "      <td>...</td>\n",
       "      <td>2388.07</td>\n",
       "      <td>8131.49</td>\n",
       "      <td>8.4318</td>\n",
       "      <td>0.03</td>\n",
       "      <td>392</td>\n",
       "      <td>2388</td>\n",
       "      <td>100.0</td>\n",
       "      <td>39.00</td>\n",
       "      <td>23.4236</td>\n",
       "      <td>190</td>\n",
       "    </tr>\n",
       "    <tr>\n",
       "      <th>2</th>\n",
       "      <td>1</td>\n",
       "      <td>518.67</td>\n",
       "      <td>642.35</td>\n",
       "      <td>1587.99</td>\n",
       "      <td>1404.20</td>\n",
       "      <td>14.62</td>\n",
       "      <td>21.61</td>\n",
       "      <td>554.26</td>\n",
       "      <td>2388.08</td>\n",
       "      <td>9052.94</td>\n",
       "      <td>...</td>\n",
       "      <td>2388.03</td>\n",
       "      <td>8133.23</td>\n",
       "      <td>8.4178</td>\n",
       "      <td>0.03</td>\n",
       "      <td>390</td>\n",
       "      <td>2388</td>\n",
       "      <td>100.0</td>\n",
       "      <td>38.95</td>\n",
       "      <td>23.3442</td>\n",
       "      <td>189</td>\n",
       "    </tr>\n",
       "    <tr>\n",
       "      <th>3</th>\n",
       "      <td>1</td>\n",
       "      <td>518.67</td>\n",
       "      <td>642.35</td>\n",
       "      <td>1582.79</td>\n",
       "      <td>1401.87</td>\n",
       "      <td>14.62</td>\n",
       "      <td>21.61</td>\n",
       "      <td>554.45</td>\n",
       "      <td>2388.11</td>\n",
       "      <td>9049.48</td>\n",
       "      <td>...</td>\n",
       "      <td>2388.08</td>\n",
       "      <td>8133.83</td>\n",
       "      <td>8.3682</td>\n",
       "      <td>0.03</td>\n",
       "      <td>392</td>\n",
       "      <td>2388</td>\n",
       "      <td>100.0</td>\n",
       "      <td>38.88</td>\n",
       "      <td>23.3739</td>\n",
       "      <td>188</td>\n",
       "    </tr>\n",
       "    <tr>\n",
       "      <th>4</th>\n",
       "      <td>1</td>\n",
       "      <td>518.67</td>\n",
       "      <td>642.37</td>\n",
       "      <td>1582.85</td>\n",
       "      <td>1406.22</td>\n",
       "      <td>14.62</td>\n",
       "      <td>21.61</td>\n",
       "      <td>554.00</td>\n",
       "      <td>2388.06</td>\n",
       "      <td>9055.15</td>\n",
       "      <td>...</td>\n",
       "      <td>2388.04</td>\n",
       "      <td>8133.80</td>\n",
       "      <td>8.4294</td>\n",
       "      <td>0.03</td>\n",
       "      <td>393</td>\n",
       "      <td>2388</td>\n",
       "      <td>100.0</td>\n",
       "      <td>38.90</td>\n",
       "      <td>23.4044</td>\n",
       "      <td>187</td>\n",
       "    </tr>\n",
       "  </tbody>\n",
       "</table>\n",
       "<p>5 rows × 23 columns</p>\n",
       "</div>"
      ],
      "text/plain": [
       "   id  sensor1  sensor2  sensor3  sensor4  sensor5  sensor6  sensor7  sensor8  \\\n",
       "0   1   518.67   641.82  1589.70  1400.60    14.62    21.61   554.36  2388.06   \n",
       "1   1   518.67   642.15  1591.82  1403.14    14.62    21.61   553.75  2388.04   \n",
       "2   1   518.67   642.35  1587.99  1404.20    14.62    21.61   554.26  2388.08   \n",
       "3   1   518.67   642.35  1582.79  1401.87    14.62    21.61   554.45  2388.11   \n",
       "4   1   518.67   642.37  1582.85  1406.22    14.62    21.61   554.00  2388.06   \n",
       "\n",
       "   sensor9  ...  sensor13  sensor14  sensor15  sensor16  sensor17  sensor18  \\\n",
       "0  9046.19  ...   2388.02   8138.62    8.4195      0.03       392      2388   \n",
       "1  9044.07  ...   2388.07   8131.49    8.4318      0.03       392      2388   \n",
       "2  9052.94  ...   2388.03   8133.23    8.4178      0.03       390      2388   \n",
       "3  9049.48  ...   2388.08   8133.83    8.3682      0.03       392      2388   \n",
       "4  9055.15  ...   2388.04   8133.80    8.4294      0.03       393      2388   \n",
       "\n",
       "   sensor19  sensor20  sensor21  RUL  \n",
       "0     100.0     39.06   23.4190  191  \n",
       "1     100.0     39.00   23.4236  190  \n",
       "2     100.0     38.95   23.3442  189  \n",
       "3     100.0     38.88   23.3739  188  \n",
       "4     100.0     38.90   23.4044  187  \n",
       "\n",
       "[5 rows x 23 columns]"
      ]
     },
     "execution_count": 6,
     "metadata": {},
     "output_type": "execute_result"
    }
   ],
   "source": [
    "train_data = load_data()\n",
    "train_data.head()"
   ]
  },
  {
   "cell_type": "code",
   "execution_count": 7,
   "id": "37c7b33f",
   "metadata": {
    "collapsed": true,
    "execution": {
     "iopub.execute_input": "2022-07-26T15:45:01.595157Z",
     "iopub.status.busy": "2022-07-26T15:45:01.594741Z",
     "iopub.status.idle": "2022-07-26T15:45:01.614407Z",
     "shell.execute_reply": "2022-07-26T15:45:01.612154Z"
    },
    "jupyter": {
     "outputs_hidden": true
    },
    "papermill": {
     "duration": 0.029593,
     "end_time": "2022-07-26T15:45:01.617020",
     "exception": false,
     "start_time": "2022-07-26T15:45:01.587427",
     "status": "completed"
    },
    "tags": []
   },
   "outputs": [
    {
     "name": "stdout",
     "output_type": "stream",
     "text": [
      "<class 'pandas.core.frame.DataFrame'>\n",
      "Int64Index: 20631 entries, 0 to 20630\n",
      "Data columns (total 23 columns):\n",
      " #   Column    Non-Null Count  Dtype  \n",
      "---  ------    --------------  -----  \n",
      " 0   id        20631 non-null  int64  \n",
      " 1   sensor1   20631 non-null  float64\n",
      " 2   sensor2   20631 non-null  float64\n",
      " 3   sensor3   20631 non-null  float64\n",
      " 4   sensor4   20631 non-null  float64\n",
      " 5   sensor5   20631 non-null  float64\n",
      " 6   sensor6   20631 non-null  float64\n",
      " 7   sensor7   20631 non-null  float64\n",
      " 8   sensor8   20631 non-null  float64\n",
      " 9   sensor9   20631 non-null  float64\n",
      " 10  sensor10  20631 non-null  float64\n",
      " 11  sensor11  20631 non-null  float64\n",
      " 12  sensor12  20631 non-null  float64\n",
      " 13  sensor13  20631 non-null  float64\n",
      " 14  sensor14  20631 non-null  float64\n",
      " 15  sensor15  20631 non-null  float64\n",
      " 16  sensor16  20631 non-null  float64\n",
      " 17  sensor17  20631 non-null  int64  \n",
      " 18  sensor18  20631 non-null  int64  \n",
      " 19  sensor19  20631 non-null  float64\n",
      " 20  sensor20  20631 non-null  float64\n",
      " 21  sensor21  20631 non-null  float64\n",
      " 22  RUL       20631 non-null  int64  \n",
      "dtypes: float64(19), int64(4)\n",
      "memory usage: 3.8 MB\n"
     ]
    }
   ],
   "source": [
    "train_data.info()"
   ]
  },
  {
   "cell_type": "code",
   "execution_count": 8,
   "id": "e386b45c",
   "metadata": {
    "execution": {
     "iopub.execute_input": "2022-07-26T15:45:01.631158Z",
     "iopub.status.busy": "2022-07-26T15:45:01.630763Z",
     "iopub.status.idle": "2022-07-26T15:45:01.646574Z",
     "shell.execute_reply": "2022-07-26T15:45:01.645194Z"
    },
    "papermill": {
     "duration": 0.02602,
     "end_time": "2022-07-26T15:45:01.649027",
     "exception": false,
     "start_time": "2022-07-26T15:45:01.623007",
     "status": "completed"
    },
    "tags": []
   },
   "outputs": [
    {
     "data": {
      "text/plain": [
       "id          2.922763e+01\n",
       "sensor1     0.000000e+00\n",
       "sensor2     5.000533e-01\n",
       "sensor3     6.131150e+00\n",
       "sensor4     9.000605e+00\n",
       "sensor5     1.776400e-15\n",
       "sensor6     1.388985e-03\n",
       "sensor7     8.850923e-01\n",
       "sensor8     7.098548e-02\n",
       "sensor9     2.208288e+01\n",
       "sensor10    0.000000e+00\n",
       "sensor11    2.670874e-01\n",
       "sensor12    7.375534e-01\n",
       "sensor13    7.191892e-02\n",
       "sensor14    1.907618e+01\n",
       "sensor15    3.750504e-02\n",
       "sensor16    1.387812e-17\n",
       "sensor17    1.548763e+00\n",
       "sensor18    0.000000e+00\n",
       "sensor19    0.000000e+00\n",
       "sensor20    1.807464e-01\n",
       "sensor21    1.082509e-01\n",
       "RUL         6.888099e+01\n",
       "dtype: float64"
      ]
     },
     "execution_count": 8,
     "metadata": {},
     "output_type": "execute_result"
    }
   ],
   "source": [
    "train_data.std()"
   ]
  },
  {
   "cell_type": "markdown",
   "id": "2d645d6c",
   "metadata": {
    "papermill": {
     "duration": 0.00566,
     "end_time": "2022-07-26T15:45:01.660618",
     "exception": false,
     "start_time": "2022-07-26T15:45:01.654958",
     "status": "completed"
    },
    "tags": []
   },
   "source": [
    "## Limpeza dos dados"
   ]
  },
  {
   "cell_type": "markdown",
   "id": "a6f2fba6",
   "metadata": {
    "papermill": {
     "duration": 0.005504,
     "end_time": "2022-07-26T15:45:01.672069",
     "exception": false,
     "start_time": "2022-07-26T15:45:01.666565",
     "status": "completed"
    },
    "tags": []
   },
   "source": [
    "### Verificando sensores com valores de correlação NaN"
   ]
  },
  {
   "cell_type": "code",
   "execution_count": 9,
   "id": "5761d774",
   "metadata": {
    "execution": {
     "iopub.execute_input": "2022-07-26T15:45:01.685571Z",
     "iopub.status.busy": "2022-07-26T15:45:01.685212Z",
     "iopub.status.idle": "2022-07-26T15:45:01.725322Z",
     "shell.execute_reply": "2022-07-26T15:45:01.724241Z"
    },
    "papermill": {
     "duration": 0.051259,
     "end_time": "2022-07-26T15:45:01.729211",
     "exception": false,
     "start_time": "2022-07-26T15:45:01.677952",
     "status": "completed"
    },
    "tags": []
   },
   "outputs": [
    {
     "name": "stdout",
     "output_type": "stream",
     "text": [
      "id          0.078753\n",
      "sensor1          NaN\n",
      "sensor2    -0.606484\n",
      "sensor3    -0.584520\n",
      "sensor4    -0.678948\n",
      "sensor5          NaN\n",
      "sensor6    -0.128348\n",
      "sensor7     0.657223\n",
      "sensor8    -0.563968\n",
      "sensor9    -0.390102\n",
      "sensor10         NaN\n",
      "sensor11   -0.696228\n",
      "sensor12    0.671983\n",
      "sensor13   -0.562569\n",
      "sensor14   -0.306769\n",
      "sensor15   -0.642667\n",
      "sensor16         NaN\n",
      "sensor17   -0.606154\n",
      "sensor18         NaN\n",
      "sensor19         NaN\n",
      "sensor20    0.629428\n",
      "sensor21    0.635662\n",
      "RUL         1.000000\n",
      "Name: RUL, dtype: float64\n"
     ]
    }
   ],
   "source": [
    "print (train_data.corr()['RUL'])"
   ]
  },
  {
   "cell_type": "code",
   "execution_count": 10,
   "id": "2c7be7cd",
   "metadata": {
    "execution": {
     "iopub.execute_input": "2022-07-26T15:45:01.745497Z",
     "iopub.status.busy": "2022-07-26T15:45:01.744314Z",
     "iopub.status.idle": "2022-07-26T15:45:02.318301Z",
     "shell.execute_reply": "2022-07-26T15:45:02.317216Z"
    },
    "papermill": {
     "duration": 0.584491,
     "end_time": "2022-07-26T15:45:02.320746",
     "exception": false,
     "start_time": "2022-07-26T15:45:01.736255",
     "status": "completed"
    },
    "tags": []
   },
   "outputs": [],
   "source": [
    "data_cor = corr_clean (train_data)"
   ]
  },
  {
   "cell_type": "markdown",
   "id": "a1dfead1",
   "metadata": {
    "papermill": {
     "duration": 0.006119,
     "end_time": "2022-07-26T15:45:02.333363",
     "exception": false,
     "start_time": "2022-07-26T15:45:02.327244",
     "status": "completed"
    },
    "tags": []
   },
   "source": [
    "## Analisando a correlação"
   ]
  },
  {
   "cell_type": "code",
   "execution_count": 11,
   "id": "d794cf63",
   "metadata": {
    "execution": {
     "iopub.execute_input": "2022-07-26T15:45:02.348196Z",
     "iopub.status.busy": "2022-07-26T15:45:02.347423Z",
     "iopub.status.idle": "2022-07-26T15:45:03.761091Z",
     "shell.execute_reply": "2022-07-26T15:45:03.759824Z"
    },
    "papermill": {
     "duration": 1.426007,
     "end_time": "2022-07-26T15:45:03.765977",
     "exception": false,
     "start_time": "2022-07-26T15:45:02.339970",
     "status": "completed"
    },
    "tags": []
   },
   "outputs": [
    {
     "data": {
      "text/plain": [
       "<AxesSubplot:>"
      ]
     },
     "execution_count": 11,
     "metadata": {},
     "output_type": "execute_result"
    },
    {
     "data": {
      "image/png": "[encoded data removed]",
      "text/plain": [
       "<Figure size 1224x720 with 2 Axes>"
      ]
     },
     "metadata": {
      "needs_background": "light"
     },
     "output_type": "display_data"
    }
   ],
   "source": [
    "plt.figure(figsize=(17,10))\n",
    "sns.heatmap(data_cor, cmap='RdBu_r', vmin=-1, vmax=1, annot=True)"
   ]
  },
  {
   "cell_type": "code",
   "execution_count": 12,
   "id": "a133e868",
   "metadata": {
    "execution": {
     "iopub.execute_input": "2022-07-26T15:45:03.785084Z",
     "iopub.status.busy": "2022-07-26T15:45:03.784680Z",
     "iopub.status.idle": "2022-07-26T15:45:03.813039Z",
     "shell.execute_reply": "2022-07-26T15:45:03.811891Z"
    },
    "papermill": {
     "duration": 0.040771,
     "end_time": "2022-07-26T15:45:03.815603",
     "exception": false,
     "start_time": "2022-07-26T15:45:03.774832",
     "status": "completed"
    },
    "tags": []
   },
   "outputs": [
    {
     "data": {
      "text/html": [
       "<div>\n",
       "<style scoped>\n",
       "    .dataframe tbody tr th:only-of-type {\n",
       "        vertical-align: middle;\n",
       "    }\n",
       "\n",
       "    .dataframe tbody tr th {\n",
       "        vertical-align: top;\n",
       "    }\n",
       "\n",
       "    .dataframe thead th {\n",
       "        text-align: right;\n",
       "    }\n",
       "</style>\n",
       "<table border=\"1\" class=\"dataframe\">\n",
       "  <thead>\n",
       "    <tr style=\"text-align: right;\">\n",
       "      <th></th>\n",
       "      <th>id</th>\n",
       "      <th>sensor2</th>\n",
       "      <th>sensor3</th>\n",
       "      <th>sensor4</th>\n",
       "      <th>sensor6</th>\n",
       "      <th>sensor7</th>\n",
       "      <th>sensor8</th>\n",
       "      <th>sensor9</th>\n",
       "      <th>sensor11</th>\n",
       "      <th>sensor12</th>\n",
       "      <th>sensor13</th>\n",
       "      <th>sensor14</th>\n",
       "      <th>sensor15</th>\n",
       "      <th>sensor17</th>\n",
       "      <th>sensor20</th>\n",
       "      <th>sensor21</th>\n",
       "      <th>RUL</th>\n",
       "    </tr>\n",
       "  </thead>\n",
       "  <tbody>\n",
       "    <tr>\n",
       "      <th>RUL</th>\n",
       "      <td>0.078753</td>\n",
       "      <td>-0.606484</td>\n",
       "      <td>-0.584520</td>\n",
       "      <td>-0.678948</td>\n",
       "      <td>-0.128348</td>\n",
       "      <td>0.657223</td>\n",
       "      <td>-0.563968</td>\n",
       "      <td>-0.390102</td>\n",
       "      <td>-0.696228</td>\n",
       "      <td>0.671983</td>\n",
       "      <td>-0.562569</td>\n",
       "      <td>-0.306769</td>\n",
       "      <td>-0.642667</td>\n",
       "      <td>-0.606154</td>\n",
       "      <td>0.629428</td>\n",
       "      <td>0.635662</td>\n",
       "      <td>1.000000</td>\n",
       "    </tr>\n",
       "    <tr>\n",
       "      <th>sensor11</th>\n",
       "      <td>0.024707</td>\n",
       "      <td>0.740020</td>\n",
       "      <td>0.695900</td>\n",
       "      <td>0.830136</td>\n",
       "      <td>0.160014</td>\n",
       "      <td>-0.822805</td>\n",
       "      <td>0.782213</td>\n",
       "      <td>0.274591</td>\n",
       "      <td>1.000000</td>\n",
       "      <td>-0.846884</td>\n",
       "      <td>0.780761</td>\n",
       "      <td>0.163408</td>\n",
       "      <td>0.780913</td>\n",
       "      <td>0.722296</td>\n",
       "      <td>-0.771510</td>\n",
       "      <td>-0.772554</td>\n",
       "      <td>-0.696228</td>\n",
       "    </tr>\n",
       "    <tr>\n",
       "      <th>sensor4</th>\n",
       "      <td>0.026116</td>\n",
       "      <td>0.714949</td>\n",
       "      <td>0.678413</td>\n",
       "      <td>1.000000</td>\n",
       "      <td>0.150480</td>\n",
       "      <td>-0.793130</td>\n",
       "      <td>0.746852</td>\n",
       "      <td>0.297429</td>\n",
       "      <td>0.830136</td>\n",
       "      <td>-0.815591</td>\n",
       "      <td>0.745158</td>\n",
       "      <td>0.190748</td>\n",
       "      <td>0.758459</td>\n",
       "      <td>0.703499</td>\n",
       "      <td>-0.748067</td>\n",
       "      <td>-0.745193</td>\n",
       "      <td>-0.678948</td>\n",
       "    </tr>\n",
       "    <tr>\n",
       "      <th>sensor12</th>\n",
       "      <td>-0.031882</td>\n",
       "      <td>-0.724578</td>\n",
       "      <td>-0.680307</td>\n",
       "      <td>-0.815591</td>\n",
       "      <td>-0.155884</td>\n",
       "      <td>0.812713</td>\n",
       "      <td>-0.786540</td>\n",
       "      <td>-0.210238</td>\n",
       "      <td>-0.846884</td>\n",
       "      <td>1.000000</td>\n",
       "      <td>-0.788441</td>\n",
       "      <td>-0.098141</td>\n",
       "      <td>-0.766052</td>\n",
       "      <td>-0.703485</td>\n",
       "      <td>0.751943</td>\n",
       "      <td>0.756263</td>\n",
       "      <td>0.671983</td>\n",
       "    </tr>\n",
       "    <tr>\n",
       "      <th>sensor7</th>\n",
       "      <td>-0.032073</td>\n",
       "      <td>-0.702136</td>\n",
       "      <td>-0.664595</td>\n",
       "      <td>-0.793130</td>\n",
       "      <td>-0.155720</td>\n",
       "      <td>1.000000</td>\n",
       "      <td>-0.767132</td>\n",
       "      <td>-0.217835</td>\n",
       "      <td>-0.822805</td>\n",
       "      <td>0.812713</td>\n",
       "      <td>-0.764611</td>\n",
       "      <td>-0.110053</td>\n",
       "      <td>-0.747051</td>\n",
       "      <td>-0.692893</td>\n",
       "      <td>0.736163</td>\n",
       "      <td>0.737447</td>\n",
       "      <td>0.657223</td>\n",
       "    </tr>\n",
       "    <tr>\n",
       "      <th>sensor15</th>\n",
       "      <td>0.022486</td>\n",
       "      <td>0.675975</td>\n",
       "      <td>0.639921</td>\n",
       "      <td>0.758459</td>\n",
       "      <td>0.149042</td>\n",
       "      <td>-0.747051</td>\n",
       "      <td>0.700949</td>\n",
       "      <td>0.293753</td>\n",
       "      <td>0.780913</td>\n",
       "      <td>-0.766052</td>\n",
       "      <td>0.697662</td>\n",
       "      <td>0.193761</td>\n",
       "      <td>1.000000</td>\n",
       "      <td>0.669205</td>\n",
       "      <td>-0.707671</td>\n",
       "      <td>-0.704043</td>\n",
       "      <td>-0.642667</td>\n",
       "    </tr>\n",
       "  </tbody>\n",
       "</table>\n",
       "</div>"
      ],
      "text/plain": [
       "                id   sensor2   sensor3   sensor4   sensor6   sensor7  \\\n",
       "RUL       0.078753 -0.606484 -0.584520 -0.678948 -0.128348  0.657223   \n",
       "sensor11  0.024707  0.740020  0.695900  0.830136  0.160014 -0.822805   \n",
       "sensor4   0.026116  0.714949  0.678413  1.000000  0.150480 -0.793130   \n",
       "sensor12 -0.031882 -0.724578 -0.680307 -0.815591 -0.155884  0.812713   \n",
       "sensor7  -0.032073 -0.702136 -0.664595 -0.793130 -0.155720  1.000000   \n",
       "sensor15  0.022486  0.675975  0.639921  0.758459  0.149042 -0.747051   \n",
       "\n",
       "           sensor8   sensor9  sensor11  sensor12  sensor13  sensor14  \\\n",
       "RUL      -0.563968 -0.390102 -0.696228  0.671983 -0.562569 -0.306769   \n",
       "sensor11  0.782213  0.274591  1.000000 -0.846884  0.780761  0.163408   \n",
       "sensor4   0.746852  0.297429  0.830136 -0.815591  0.745158  0.190748   \n",
       "sensor12 -0.786540 -0.210238 -0.846884  1.000000 -0.788441 -0.098141   \n",
       "sensor7  -0.767132 -0.217835 -0.822805  0.812713 -0.764611 -0.110053   \n",
       "sensor15  0.700949  0.293753  0.780913 -0.766052  0.697662  0.193761   \n",
       "\n",
       "          sensor15  sensor17  sensor20  sensor21       RUL  \n",
       "RUL      -0.642667 -0.606154  0.629428  0.635662  1.000000  \n",
       "sensor11  0.780913  0.722296 -0.771510 -0.772554 -0.696228  \n",
       "sensor4   0.758459  0.703499 -0.748067 -0.745193 -0.678948  \n",
       "sensor12 -0.766052 -0.703485  0.751943  0.756263  0.671983  \n",
       "sensor7  -0.747051 -0.692893  0.736163  0.737447  0.657223  \n",
       "sensor15  1.000000  0.669205 -0.707671 -0.704043 -0.642667  "
      ]
     },
     "execution_count": 12,
     "metadata": {},
     "output_type": "execute_result"
    }
   ],
   "source": [
    "data_cor.sort_values(by=['RUL'], ascending=False, key=abs).head(6)"
   ]
  },
  {
   "cell_type": "markdown",
   "id": "bd47822a",
   "metadata": {
    "papermill": {
     "duration": 0.008662,
     "end_time": "2022-07-26T15:45:03.833194",
     "exception": false,
     "start_time": "2022-07-26T15:45:03.824532",
     "status": "completed"
    },
    "tags": []
   },
   "source": [
    "## Cálculo da Média Móvel"
   ]
  },
  {
   "cell_type": "code",
   "execution_count": null,
   "id": "04727588",
   "metadata": {
    "papermill": {
     "duration": 0.008603,
     "end_time": "2022-07-26T15:45:03.850688",
     "exception": false,
     "start_time": "2022-07-26T15:45:03.842085",
     "status": "completed"
    },
    "tags": []
   },
   "outputs": [],
   "source": []
  }
 ],
 "metadata": {
  "kernelspec": {
   "display_name": "Python 3",
   "language": "python",
   "name": "python3"
  },
  "language_info": {
   "codemirror_mode": {
    "name": "ipython",
    "version": 3
   },
   "file_extension": ".py",
   "mimetype": "text/x-python",
   "name": "python",
   "nbconvert_exporter": "python",
   "pygments_lexer": "ipython3",
   "version": "3.7.12"
  },
  "papermill": {
   "default_parameters": {},
   "duration": 15.504545,
   "end_time": "2022-07-26T15:45:04.682366",
   "environment_variables": {},
   "exception": null,
   "input_path": "__notebook__.ipynb",
   "output_path": "__notebook__.ipynb",
   "parameters": {},
   "start_time": "2022-07-26T15:44:49.177821",
   "version": "2.3.4"
  }
 },
 "nbformat": 4,
 "nbformat_minor": 5
}
