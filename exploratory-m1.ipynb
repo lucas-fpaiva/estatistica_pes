{
 "cells": [
  {
   "source":"<a href=\"https://www.kaggle.com/code/allanfernando/exploratory-m1\" target=\"_blank\"><img align=\"left\" alt=\"Kaggle\" title=\"Open in Kaggle\" src=\"https://kaggle.com/static/images/open-in-kaggle.svg\"></a>"
   "cell_type": "code",
   "execution_count": 1,
   "id": "4f297aba",
   "metadata": {
    "_cell_guid": "b1076dfc-b9ad-4769-8c92-a6c4dae69d19",
    "_uuid": "8f2839f25d086af736a60e9eeb907d3b93b6e0e5",
    "execution": {
     "iopub.execute_input": "2022-07-25T15:58:07.722495Z",
     "iopub.status.busy": "2022-07-25T15:58:07.721618Z",
     "iopub.status.idle": "2022-07-25T15:58:07.764157Z",
     "shell.execute_reply": "2022-07-25T15:58:07.762661Z"
    },
    "papermill": {
     "duration": 0.053753,
     "end_time": "2022-07-25T15:58:07.767270",
     "exception": false,
     "start_time": "2022-07-25T15:58:07.713517",
     "status": "completed"
    },
    "tags": []
   },
   "outputs": [
    {
     "name": "stdout",
     "output_type": "stream",
     "text": [
      "/kaggle/input/nasa-cmaps/CMaps/RUL_FD002.txt\n",
      "/kaggle/input/nasa-cmaps/CMaps/test_FD003.txt\n",
      "/kaggle/input/nasa-cmaps/CMaps/Damage Propagation Modeling.pdf\n",
      "/kaggle/input/nasa-cmaps/CMaps/readme.txt\n",
      "/kaggle/input/nasa-cmaps/CMaps/train_FD003.txt\n",
      "/kaggle/input/nasa-cmaps/CMaps/test_FD004.txt\n",
      "/kaggle/input/nasa-cmaps/CMaps/train_FD004.txt\n",
      "/kaggle/input/nasa-cmaps/CMaps/x.txt\n",
      "/kaggle/input/nasa-cmaps/CMaps/test_FD002.txt\n",
      "/kaggle/input/nasa-cmaps/CMaps/train_FD001.txt\n",
      "/kaggle/input/nasa-cmaps/CMaps/train_FD002.txt\n",
      "/kaggle/input/nasa-cmaps/CMaps/RUL_FD001.txt\n",
      "/kaggle/input/nasa-cmaps/CMaps/RUL_FD004.txt\n",
      "/kaggle/input/nasa-cmaps/CMaps/RUL_FD003.txt\n",
      "/kaggle/input/nasa-cmaps/CMaps/test_FD001.txt\n",
      "/kaggle/input/nasa-cmaps/cmaps/CMaps/RUL_FD002.txt\n",
      "/kaggle/input/nasa-cmaps/cmaps/CMaps/test_FD003.txt\n",
      "/kaggle/input/nasa-cmaps/cmaps/CMaps/Damage Propagation Modeling.pdf\n",
      "/kaggle/input/nasa-cmaps/cmaps/CMaps/readme.txt\n",
      "/kaggle/input/nasa-cmaps/cmaps/CMaps/train_FD003.txt\n",
      "/kaggle/input/nasa-cmaps/cmaps/CMaps/test_FD004.txt\n",
      "/kaggle/input/nasa-cmaps/cmaps/CMaps/train_FD004.txt\n",
      "/kaggle/input/nasa-cmaps/cmaps/CMaps/x.txt\n",
      "/kaggle/input/nasa-cmaps/cmaps/CMaps/test_FD002.txt\n",
      "/kaggle/input/nasa-cmaps/cmaps/CMaps/train_FD001.txt\n",
      "/kaggle/input/nasa-cmaps/cmaps/CMaps/train_FD002.txt\n",
      "/kaggle/input/nasa-cmaps/cmaps/CMaps/RUL_FD001.txt\n",
      "/kaggle/input/nasa-cmaps/cmaps/CMaps/RUL_FD004.txt\n",
      "/kaggle/input/nasa-cmaps/cmaps/CMaps/RUL_FD003.txt\n",
      "/kaggle/input/nasa-cmaps/cmaps/CMaps/test_FD001.txt\n"
     ]
    }
   ],
   "source": [
    "# This Python 3 environment comes with many helpful analytics libraries installed\n",
    "# It is defined by the kaggle/python Docker image: https://github.com/kaggle/docker-python\n",
    "# For example, here's several helpful packages to load\n",
    "\n",
    "\n",
    "# Input data files are available in the read-only \"../input/\" directory\n",
    "# For example, running this (by clicking run or pressing Shift+Enter) will list all files under the input directory\n",
    "\n",
    "import os\n",
    "for dirname, _, filenames in os.walk('/kaggle/input'):\n",
    "    for filename in filenames:\n",
    "        print(os.path.join(dirname, filename))\n",
    "\n",
    "# You can write up to 20GB to the current directory (/kaggle/working/) that gets preserved as output when you create a version using \"Save & Run All\" \n",
    "# You can also write temporary files to /kaggle/temp/, but they won't be saved outside of the current session"
   ]
  },
  {
   "cell_type": "markdown",
   "id": "f6041214",
   "metadata": {
    "papermill": {
     "duration": 0.005142,
     "end_time": "2022-07-25T15:58:07.778269",
     "exception": false,
     "start_time": "2022-07-25T15:58:07.773127",
     "status": "completed"
    },
    "tags": []
   },
   "source": [
    "# Análise dos dados de treino do Motor1"
   ]
  },
  {
   "cell_type": "code",
   "execution_count": 2,
   "id": "998df6ae",
   "metadata": {
    "execution": {
     "iopub.execute_input": "2022-07-25T15:58:07.790882Z",
     "iopub.status.busy": "2022-07-25T15:58:07.790435Z",
     "iopub.status.idle": "2022-07-25T15:58:08.876531Z",
     "shell.execute_reply": "2022-07-25T15:58:08.875387Z"
    },
    "papermill": {
     "duration": 1.096029,
     "end_time": "2022-07-25T15:58:08.879606",
     "exception": false,
     "start_time": "2022-07-25T15:58:07.783577",
     "status": "completed"
    },
    "tags": []
   },
   "outputs": [],
   "source": [
    "import numpy as np # linear algebra\n",
    "import pandas as pd # data processing, CSV file I/O (e.g. pd.read_csv)\n",
    "import seaborn as sns #importando o seaborn\n",
    "import matplotlib.pyplot as plt"
   ]
  },
  {
   "cell_type": "code",
   "execution_count": 3,
   "id": "66a74ba4",
   "metadata": {
    "execution": {
     "iopub.execute_input": "2022-07-25T15:58:08.892590Z",
     "iopub.status.busy": "2022-07-25T15:58:08.891791Z",
     "iopub.status.idle": "2022-07-25T15:58:08.898088Z",
     "shell.execute_reply": "2022-07-25T15:58:08.896788Z"
    },
    "papermill": {
     "duration": 0.015375,
     "end_time": "2022-07-25T15:58:08.900270",
     "exception": false,
     "start_time": "2022-07-25T15:58:08.884895",
     "status": "completed"
    },
    "tags": []
   },
   "outputs": [],
   "source": [
    "def add_rul(g):\n",
    "    g['RUL'] = max(g['cycle']) - g['cycle']\n",
    "    return g"
   ]
  },
  {
   "cell_type": "code",
   "execution_count": 4,
   "id": "de2f12d5",
   "metadata": {
    "execution": {
     "iopub.execute_input": "2022-07-25T15:58:08.913272Z",
     "iopub.status.busy": "2022-07-25T15:58:08.912458Z",
     "iopub.status.idle": "2022-07-25T15:58:09.079580Z",
     "shell.execute_reply": "2022-07-25T15:58:09.078471Z"
    },
    "papermill": {
     "duration": 0.176893,
     "end_time": "2022-07-25T15:58:09.082421",
     "exception": false,
     "start_time": "2022-07-25T15:58:08.905528",
     "status": "completed"
    },
    "tags": []
   },
   "outputs": [],
   "source": [
    "columns=[\"id\",\"cycle\",\"op1\",\"op2\",\"op3\",\"sensor1\",\"sensor2\",\"sensor3\",\"sensor4\",\"sensor5\",\"sensor6\",\"sensor7\",\"sensor8\",\n",
    "         \"sensor9\",\"sensor10\",\"sensor11\",\"sensor12\",\"sensor13\",\"sensor14\",\"sensor15\",\"sensor16\",\"sensor17\",\"sensor18\",\"sensor19\"\n",
    "         ,\"sensor20\",\"sensor21\"]\n",
    "\n",
    "\n",
    "train_data = pd.read_csv(\"../input/nasa-cmaps/CMaps/train_FD001.txt\", sep= \"\\s+\", header = None,names=columns )"
   ]
  },
  {
   "cell_type": "code",
   "execution_count": 5,
   "id": "819c6f28",
   "metadata": {
    "execution": {
     "iopub.execute_input": "2022-07-25T15:58:09.095929Z",
     "iopub.status.busy": "2022-07-25T15:58:09.095156Z",
     "iopub.status.idle": "2022-07-25T15:58:09.237850Z",
     "shell.execute_reply": "2022-07-25T15:58:09.236402Z"
    },
    "papermill": {
     "duration": 0.153081,
     "end_time": "2022-07-25T15:58:09.240873",
     "exception": false,
     "start_time": "2022-07-25T15:58:09.087792",
     "status": "completed"
    },
    "tags": []
   },
   "outputs": [],
   "source": [
    "train_data = train_data.groupby('id').apply(add_rul)"
   ]
  },
  {
   "cell_type": "code",
   "execution_count": 6,
   "id": "a6495acf",
   "metadata": {
    "execution": {
     "iopub.execute_input": "2022-07-25T15:58:09.254056Z",
     "iopub.status.busy": "2022-07-25T15:58:09.253248Z",
     "iopub.status.idle": "2022-07-25T15:58:09.289858Z",
     "shell.execute_reply": "2022-07-25T15:58:09.288545Z"
    },
    "papermill": {
     "duration": 0.046178,
     "end_time": "2022-07-25T15:58:09.292476",
     "exception": false,
     "start_time": "2022-07-25T15:58:09.246298",
     "status": "completed"
    },
    "tags": []
   },
   "outputs": [
    {
     "data": {
      "text/html": [
       "<div>\n",
       "<style scoped>\n",
       "    .dataframe tbody tr th:only-of-type {\n",
       "        vertical-align: middle;\n",
       "    }\n",
       "\n",
       "    .dataframe tbody tr th {\n",
       "        vertical-align: top;\n",
       "    }\n",
       "\n",
       "    .dataframe thead th {\n",
       "        text-align: right;\n",
       "    }\n",
       "</style>\n",
       "<table border=\"1\" class=\"dataframe\">\n",
       "  <thead>\n",
       "    <tr style=\"text-align: right;\">\n",
       "      <th></th>\n",
       "      <th>id</th>\n",
       "      <th>cycle</th>\n",
       "      <th>op1</th>\n",
       "      <th>op2</th>\n",
       "      <th>op3</th>\n",
       "      <th>sensor1</th>\n",
       "      <th>sensor2</th>\n",
       "      <th>sensor3</th>\n",
       "      <th>sensor4</th>\n",
       "      <th>sensor5</th>\n",
       "      <th>...</th>\n",
       "      <th>sensor13</th>\n",
       "      <th>sensor14</th>\n",
       "      <th>sensor15</th>\n",
       "      <th>sensor16</th>\n",
       "      <th>sensor17</th>\n",
       "      <th>sensor18</th>\n",
       "      <th>sensor19</th>\n",
       "      <th>sensor20</th>\n",
       "      <th>sensor21</th>\n",
       "      <th>RUL</th>\n",
       "    </tr>\n",
       "  </thead>\n",
       "  <tbody>\n",
       "    <tr>\n",
       "      <th>0</th>\n",
       "      <td>1</td>\n",
       "      <td>1</td>\n",
       "      <td>-0.0007</td>\n",
       "      <td>-0.0004</td>\n",
       "      <td>100.0</td>\n",
       "      <td>518.67</td>\n",
       "      <td>641.82</td>\n",
       "      <td>1589.70</td>\n",
       "      <td>1400.60</td>\n",
       "      <td>14.62</td>\n",
       "      <td>...</td>\n",
       "      <td>2388.02</td>\n",
       "      <td>8138.62</td>\n",
       "      <td>8.4195</td>\n",
       "      <td>0.03</td>\n",
       "      <td>392</td>\n",
       "      <td>2388</td>\n",
       "      <td>100.0</td>\n",
       "      <td>39.06</td>\n",
       "      <td>23.4190</td>\n",
       "      <td>191</td>\n",
       "    </tr>\n",
       "    <tr>\n",
       "      <th>1</th>\n",
       "      <td>1</td>\n",
       "      <td>2</td>\n",
       "      <td>0.0019</td>\n",
       "      <td>-0.0003</td>\n",
       "      <td>100.0</td>\n",
       "      <td>518.67</td>\n",
       "      <td>642.15</td>\n",
       "      <td>1591.82</td>\n",
       "      <td>1403.14</td>\n",
       "      <td>14.62</td>\n",
       "      <td>...</td>\n",
       "      <td>2388.07</td>\n",
       "      <td>8131.49</td>\n",
       "      <td>8.4318</td>\n",
       "      <td>0.03</td>\n",
       "      <td>392</td>\n",
       "      <td>2388</td>\n",
       "      <td>100.0</td>\n",
       "      <td>39.00</td>\n",
       "      <td>23.4236</td>\n",
       "      <td>190</td>\n",
       "    </tr>\n",
       "    <tr>\n",
       "      <th>2</th>\n",
       "      <td>1</td>\n",
       "      <td>3</td>\n",
       "      <td>-0.0043</td>\n",
       "      <td>0.0003</td>\n",
       "      <td>100.0</td>\n",
       "      <td>518.67</td>\n",
       "      <td>642.35</td>\n",
       "      <td>1587.99</td>\n",
       "      <td>1404.20</td>\n",
       "      <td>14.62</td>\n",
       "      <td>...</td>\n",
       "      <td>2388.03</td>\n",
       "      <td>8133.23</td>\n",
       "      <td>8.4178</td>\n",
       "      <td>0.03</td>\n",
       "      <td>390</td>\n",
       "      <td>2388</td>\n",
       "      <td>100.0</td>\n",
       "      <td>38.95</td>\n",
       "      <td>23.3442</td>\n",
       "      <td>189</td>\n",
       "    </tr>\n",
       "    <tr>\n",
       "      <th>3</th>\n",
       "      <td>1</td>\n",
       "      <td>4</td>\n",
       "      <td>0.0007</td>\n",
       "      <td>0.0000</td>\n",
       "      <td>100.0</td>\n",
       "      <td>518.67</td>\n",
       "      <td>642.35</td>\n",
       "      <td>1582.79</td>\n",
       "      <td>1401.87</td>\n",
       "      <td>14.62</td>\n",
       "      <td>...</td>\n",
       "      <td>2388.08</td>\n",
       "      <td>8133.83</td>\n",
       "      <td>8.3682</td>\n",
       "      <td>0.03</td>\n",
       "      <td>392</td>\n",
       "      <td>2388</td>\n",
       "      <td>100.0</td>\n",
       "      <td>38.88</td>\n",
       "      <td>23.3739</td>\n",
       "      <td>188</td>\n",
       "    </tr>\n",
       "    <tr>\n",
       "      <th>4</th>\n",
       "      <td>1</td>\n",
       "      <td>5</td>\n",
       "      <td>-0.0019</td>\n",
       "      <td>-0.0002</td>\n",
       "      <td>100.0</td>\n",
       "      <td>518.67</td>\n",
       "      <td>642.37</td>\n",
       "      <td>1582.85</td>\n",
       "      <td>1406.22</td>\n",
       "      <td>14.62</td>\n",
       "      <td>...</td>\n",
       "      <td>2388.04</td>\n",
       "      <td>8133.80</td>\n",
       "      <td>8.4294</td>\n",
       "      <td>0.03</td>\n",
       "      <td>393</td>\n",
       "      <td>2388</td>\n",
       "      <td>100.0</td>\n",
       "      <td>38.90</td>\n",
       "      <td>23.4044</td>\n",
       "      <td>187</td>\n",
       "    </tr>\n",
       "  </tbody>\n",
       "</table>\n",
       "<p>5 rows × 27 columns</p>\n",
       "</div>"
      ],
      "text/plain": [
       "   id  cycle     op1     op2    op3  sensor1  sensor2  sensor3  sensor4  \\\n",
       "0   1      1 -0.0007 -0.0004  100.0   518.67   641.82  1589.70  1400.60   \n",
       "1   1      2  0.0019 -0.0003  100.0   518.67   642.15  1591.82  1403.14   \n",
       "2   1      3 -0.0043  0.0003  100.0   518.67   642.35  1587.99  1404.20   \n",
       "3   1      4  0.0007  0.0000  100.0   518.67   642.35  1582.79  1401.87   \n",
       "4   1      5 -0.0019 -0.0002  100.0   518.67   642.37  1582.85  1406.22   \n",
       "\n",
       "   sensor5  ...  sensor13  sensor14  sensor15  sensor16  sensor17  sensor18  \\\n",
       "0    14.62  ...   2388.02   8138.62    8.4195      0.03       392      2388   \n",
       "1    14.62  ...   2388.07   8131.49    8.4318      0.03       392      2388   \n",
       "2    14.62  ...   2388.03   8133.23    8.4178      0.03       390      2388   \n",
       "3    14.62  ...   2388.08   8133.83    8.3682      0.03       392      2388   \n",
       "4    14.62  ...   2388.04   8133.80    8.4294      0.03       393      2388   \n",
       "\n",
       "   sensor19  sensor20  sensor21  RUL  \n",
       "0     100.0     39.06   23.4190  191  \n",
       "1     100.0     39.00   23.4236  190  \n",
       "2     100.0     38.95   23.3442  189  \n",
       "3     100.0     38.88   23.3739  188  \n",
       "4     100.0     38.90   23.4044  187  \n",
       "\n",
       "[5 rows x 27 columns]"
      ]
     },
     "execution_count": 6,
     "metadata": {},
     "output_type": "execute_result"
    }
   ],
   "source": [
    "train_data.head()"
   ]
  },
  {
   "cell_type": "markdown",
   "id": "bfa99132",
   "metadata": {
    "papermill": {
     "duration": 0.005248,
     "end_time": "2022-07-25T15:58:09.303506",
     "exception": false,
     "start_time": "2022-07-25T15:58:09.298258",
     "status": "completed"
    },
    "tags": []
   },
   "source": [
    "## Limpeza dos dados"
   ]
  },
  {
   "cell_type": "code",
   "execution_count": 7,
   "id": "d798abd2",
   "metadata": {
    "execution": {
     "iopub.execute_input": "2022-07-25T15:58:09.316782Z",
     "iopub.status.busy": "2022-07-25T15:58:09.316345Z",
     "iopub.status.idle": "2022-07-25T15:58:09.337831Z",
     "shell.execute_reply": "2022-07-25T15:58:09.336023Z"
    },
    "papermill": {
     "duration": 0.031417,
     "end_time": "2022-07-25T15:58:09.340452",
     "exception": false,
     "start_time": "2022-07-25T15:58:09.309035",
     "status": "completed"
    },
    "tags": []
   },
   "outputs": [
    {
     "name": "stdout",
     "output_type": "stream",
     "text": [
      "<class 'pandas.core.frame.DataFrame'>\n",
      "Int64Index: 20631 entries, 0 to 20630\n",
      "Data columns (total 27 columns):\n",
      " #   Column    Non-Null Count  Dtype  \n",
      "---  ------    --------------  -----  \n",
      " 0   id        20631 non-null  int64  \n",
      " 1   cycle     20631 non-null  int64  \n",
      " 2   op1       20631 non-null  float64\n",
      " 3   op2       20631 non-null  float64\n",
      " 4   op3       20631 non-null  float64\n",
      " 5   sensor1   20631 non-null  float64\n",
      " 6   sensor2   20631 non-null  float64\n",
      " 7   sensor3   20631 non-null  float64\n",
      " 8   sensor4   20631 non-null  float64\n",
      " 9   sensor5   20631 non-null  float64\n",
      " 10  sensor6   20631 non-null  float64\n",
      " 11  sensor7   20631 non-null  float64\n",
      " 12  sensor8   20631 non-null  float64\n",
      " 13  sensor9   20631 non-null  float64\n",
      " 14  sensor10  20631 non-null  float64\n",
      " 15  sensor11  20631 non-null  float64\n",
      " 16  sensor12  20631 non-null  float64\n",
      " 17  sensor13  20631 non-null  float64\n",
      " 18  sensor14  20631 non-null  float64\n",
      " 19  sensor15  20631 non-null  float64\n",
      " 20  sensor16  20631 non-null  float64\n",
      " 21  sensor17  20631 non-null  int64  \n",
      " 22  sensor18  20631 non-null  int64  \n",
      " 23  sensor19  20631 non-null  float64\n",
      " 24  sensor20  20631 non-null  float64\n",
      " 25  sensor21  20631 non-null  float64\n",
      " 26  RUL       20631 non-null  int64  \n",
      "dtypes: float64(22), int64(5)\n",
      "memory usage: 4.4 MB\n"
     ]
    }
   ],
   "source": [
    "train_data.info()"
   ]
  },
  {
   "cell_type": "markdown",
   "id": "7ec061a3",
   "metadata": {
    "papermill": {
     "duration": 0.0065,
     "end_time": "2022-07-25T15:58:09.352745",
     "exception": false,
     "start_time": "2022-07-25T15:58:09.346245",
     "status": "completed"
    },
    "tags": []
   },
   "source": [
    "### Verificando sensores com valores constantes"
   ]
  },
  {
   "cell_type": "code",
   "execution_count": 8,
   "id": "16cd45f4",
   "metadata": {
    "execution": {
     "iopub.execute_input": "2022-07-25T15:58:09.366776Z",
     "iopub.status.busy": "2022-07-25T15:58:09.366357Z",
     "iopub.status.idle": "2022-07-25T15:58:09.383168Z",
     "shell.execute_reply": "2022-07-25T15:58:09.381578Z"
    },
    "papermill": {
     "duration": 0.027083,
     "end_time": "2022-07-25T15:58:09.385722",
     "exception": false,
     "start_time": "2022-07-25T15:58:09.358639",
     "status": "completed"
    },
    "tags": []
   },
   "outputs": [
    {
     "name": "stdout",
     "output_type": "stream",
     "text": [
      "id          8.542545e+02\n",
      "cycle       4.744591e+03\n",
      "op1         4.784340e-06\n",
      "op2         8.588541e-08\n",
      "op3         0.000000e+00\n",
      "sensor1     0.000000e+00\n",
      "sensor2     2.500533e-01\n",
      "sensor3     3.759099e+01\n",
      "sensor4     8.101089e+01\n",
      "sensor5     3.155597e-30\n",
      "sensor6     1.929279e-06\n",
      "sensor7     7.833883e-01\n",
      "sensor8     5.038938e-03\n",
      "sensor9     4.876536e+02\n",
      "sensor10    0.000000e+00\n",
      "sensor11    7.133568e-02\n",
      "sensor12    5.439850e-01\n",
      "sensor13    5.172330e-03\n",
      "sensor14    3.639005e+02\n",
      "sensor15    1.406628e-03\n",
      "sensor16    1.926023e-34\n",
      "sensor17    2.398667e+00\n",
      "sensor18    0.000000e+00\n",
      "sensor19    0.000000e+00\n",
      "sensor20    3.266927e-02\n",
      "sensor21    1.171825e-02\n",
      "RUL         4.744591e+03\n",
      "dtype: float64\n"
     ]
    }
   ],
   "source": [
    "cofvar = train_data.var()\n",
    "print (cofvar)"
   ]
  },
  {
   "cell_type": "code",
   "execution_count": 9,
   "id": "add63e7c",
   "metadata": {
    "execution": {
     "iopub.execute_input": "2022-07-25T15:58:09.399511Z",
     "iopub.status.busy": "2022-07-25T15:58:09.399091Z",
     "iopub.status.idle": "2022-07-25T15:58:09.406335Z",
     "shell.execute_reply": "2022-07-25T15:58:09.405000Z"
    },
    "papermill": {
     "duration": 0.018044,
     "end_time": "2022-07-25T15:58:09.409482",
     "exception": false,
     "start_time": "2022-07-25T15:58:09.391438",
     "status": "completed"
    },
    "tags": []
   },
   "outputs": [
    {
     "name": "stdout",
     "output_type": "stream",
     "text": [
      "['op1', 'op2', 'op3', 'sensor1', 'sensor5', 'sensor6', 'sensor8', 'sensor10', 'sensor13', 'sensor15', 'sensor16', 'sensor18', 'sensor19', 'sensor20', 'sensor21']\n"
     ]
    }
   ],
   "source": [
    "#Verifica as colunas com variação (CV) menor que 5% e salva no col_zerovar\n",
    "col_zerovar = []\n",
    "for column in columns:\n",
    "    if cofvar[column] < 0.05:\n",
    "        col_zerovar.append(column)\n",
    "print (col_zerovar)\n"
   ]
  },
  {
   "cell_type": "code",
   "execution_count": 10,
   "id": "8796730a",
   "metadata": {
    "execution": {
     "iopub.execute_input": "2022-07-25T15:58:09.423783Z",
     "iopub.status.busy": "2022-07-25T15:58:09.423344Z",
     "iopub.status.idle": "2022-07-25T15:58:09.430764Z",
     "shell.execute_reply": "2022-07-25T15:58:09.429531Z"
    },
    "papermill": {
     "duration": 0.017158,
     "end_time": "2022-07-25T15:58:09.433197",
     "exception": false,
     "start_time": "2022-07-25T15:58:09.416039",
     "status": "completed"
    },
    "tags": []
   },
   "outputs": [],
   "source": [
    "#Remove do Dataframe as colunas salvas no col_zerovar\n",
    "train_data = train_data.drop(col_zerovar, axis=1)"
   ]
  },
  {
   "cell_type": "markdown",
   "id": "e991057a",
   "metadata": {
    "papermill": {
     "duration": 0.00553,
     "end_time": "2022-07-25T15:58:09.444598",
     "exception": false,
     "start_time": "2022-07-25T15:58:09.439068",
     "status": "completed"
    },
    "tags": []
   },
   "source": [
    "## Analisando a correlação"
   ]
  },
  {
   "cell_type": "code",
   "execution_count": 11,
   "id": "470dd26b",
   "metadata": {
    "execution": {
     "iopub.execute_input": "2022-07-25T15:58:09.458060Z",
     "iopub.status.busy": "2022-07-25T15:58:09.457588Z",
     "iopub.status.idle": "2022-07-25T15:58:09.473433Z",
     "shell.execute_reply": "2022-07-25T15:58:09.471856Z"
    },
    "papermill": {
     "duration": 0.025805,
     "end_time": "2022-07-25T15:58:09.476244",
     "exception": false,
     "start_time": "2022-07-25T15:58:09.450439",
     "status": "completed"
    },
    "tags": []
   },
   "outputs": [],
   "source": [
    "#Verificando a correlação\n",
    "data_cor = train_data.drop(['id', 'cycle'], axis=1).corr()"
   ]
  },
  {
   "cell_type": "code",
   "execution_count": 12,
   "id": "049222ef",
   "metadata": {
    "execution": {
     "iopub.execute_input": "2022-07-25T15:58:09.490844Z",
     "iopub.status.busy": "2022-07-25T15:58:09.489871Z",
     "iopub.status.idle": "2022-07-25T15:58:10.220798Z",
     "shell.execute_reply": "2022-07-25T15:58:10.219060Z"
    },
    "papermill": {
     "duration": 0.742601,
     "end_time": "2022-07-25T15:58:10.224914",
     "exception": false,
     "start_time": "2022-07-25T15:58:09.482313",
     "status": "completed"
    },
    "tags": []
   },
   "outputs": [
    {
     "data": {
      "text/plain": [
       "<AxesSubplot:>"
      ]
     },
     "execution_count": 12,
     "metadata": {},
     "output_type": "execute_result"
    },
    {
     "data": {
      "image/png": "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\n",
      "text/plain": [
       "<Figure size 1152x1152 with 2 Axes>"
      ]
     },
     "metadata": {
      "needs_background": "light"
     },
     "output_type": "display_data"
    }
   ],
   "source": [
    "plt.figure(figsize=(16,16))\n",
    "sns.heatmap(data_cor, annot=True)"
   ]
  },
  {
   "cell_type": "code",
   "execution_count": 13,
   "id": "b4219c6b",
   "metadata": {
    "execution": {
     "iopub.execute_input": "2022-07-25T15:58:10.243294Z",
     "iopub.status.busy": "2022-07-25T15:58:10.241983Z",
     "iopub.status.idle": "2022-07-25T15:58:10.261394Z",
     "shell.execute_reply": "2022-07-25T15:58:10.260536Z"
    },
    "papermill": {
     "duration": 0.030925,
     "end_time": "2022-07-25T15:58:10.263841",
     "exception": false,
     "start_time": "2022-07-25T15:58:10.232916",
     "status": "completed"
    },
    "tags": []
   },
   "outputs": [
    {
     "data": {
      "text/html": [
       "<div>\n",
       "<style scoped>\n",
       "    .dataframe tbody tr th:only-of-type {\n",
       "        vertical-align: middle;\n",
       "    }\n",
       "\n",
       "    .dataframe tbody tr th {\n",
       "        vertical-align: top;\n",
       "    }\n",
       "\n",
       "    .dataframe thead th {\n",
       "        text-align: right;\n",
       "    }\n",
       "</style>\n",
       "<table border=\"1\" class=\"dataframe\">\n",
       "  <thead>\n",
       "    <tr style=\"text-align: right;\">\n",
       "      <th></th>\n",
       "      <th>sensor2</th>\n",
       "      <th>sensor3</th>\n",
       "      <th>sensor4</th>\n",
       "      <th>sensor7</th>\n",
       "      <th>sensor9</th>\n",
       "      <th>sensor11</th>\n",
       "      <th>sensor12</th>\n",
       "      <th>sensor14</th>\n",
       "      <th>sensor17</th>\n",
       "      <th>RUL</th>\n",
       "    </tr>\n",
       "  </thead>\n",
       "  <tbody>\n",
       "    <tr>\n",
       "      <th>RUL</th>\n",
       "      <td>-0.606484</td>\n",
       "      <td>-0.584520</td>\n",
       "      <td>-0.678948</td>\n",
       "      <td>0.657223</td>\n",
       "      <td>-0.390102</td>\n",
       "      <td>-0.696228</td>\n",
       "      <td>0.671983</td>\n",
       "      <td>-0.306769</td>\n",
       "      <td>-0.606154</td>\n",
       "      <td>1.000000</td>\n",
       "    </tr>\n",
       "    <tr>\n",
       "      <th>sensor11</th>\n",
       "      <td>0.740020</td>\n",
       "      <td>0.695900</td>\n",
       "      <td>0.830136</td>\n",
       "      <td>-0.822805</td>\n",
       "      <td>0.274591</td>\n",
       "      <td>1.000000</td>\n",
       "      <td>-0.846884</td>\n",
       "      <td>0.163408</td>\n",
       "      <td>0.722296</td>\n",
       "      <td>-0.696228</td>\n",
       "    </tr>\n",
       "    <tr>\n",
       "      <th>sensor4</th>\n",
       "      <td>0.714949</td>\n",
       "      <td>0.678413</td>\n",
       "      <td>1.000000</td>\n",
       "      <td>-0.793130</td>\n",
       "      <td>0.297429</td>\n",
       "      <td>0.830136</td>\n",
       "      <td>-0.815591</td>\n",
       "      <td>0.190748</td>\n",
       "      <td>0.703499</td>\n",
       "      <td>-0.678948</td>\n",
       "    </tr>\n",
       "    <tr>\n",
       "      <th>sensor12</th>\n",
       "      <td>-0.724578</td>\n",
       "      <td>-0.680307</td>\n",
       "      <td>-0.815591</td>\n",
       "      <td>0.812713</td>\n",
       "      <td>-0.210238</td>\n",
       "      <td>-0.846884</td>\n",
       "      <td>1.000000</td>\n",
       "      <td>-0.098141</td>\n",
       "      <td>-0.703485</td>\n",
       "      <td>0.671983</td>\n",
       "    </tr>\n",
       "    <tr>\n",
       "      <th>sensor7</th>\n",
       "      <td>-0.702136</td>\n",
       "      <td>-0.664595</td>\n",
       "      <td>-0.793130</td>\n",
       "      <td>1.000000</td>\n",
       "      <td>-0.217835</td>\n",
       "      <td>-0.822805</td>\n",
       "      <td>0.812713</td>\n",
       "      <td>-0.110053</td>\n",
       "      <td>-0.692893</td>\n",
       "      <td>0.657223</td>\n",
       "    </tr>\n",
       "    <tr>\n",
       "      <th>sensor2</th>\n",
       "      <td>1.000000</td>\n",
       "      <td>0.602610</td>\n",
       "      <td>0.714949</td>\n",
       "      <td>-0.702136</td>\n",
       "      <td>0.273764</td>\n",
       "      <td>0.740020</td>\n",
       "      <td>-0.724578</td>\n",
       "      <td>0.179752</td>\n",
       "      <td>0.629886</td>\n",
       "      <td>-0.606484</td>\n",
       "    </tr>\n",
       "  </tbody>\n",
       "</table>\n",
       "</div>"
      ],
      "text/plain": [
       "           sensor2   sensor3   sensor4   sensor7   sensor9  sensor11  \\\n",
       "RUL      -0.606484 -0.584520 -0.678948  0.657223 -0.390102 -0.696228   \n",
       "sensor11  0.740020  0.695900  0.830136 -0.822805  0.274591  1.000000   \n",
       "sensor4   0.714949  0.678413  1.000000 -0.793130  0.297429  0.830136   \n",
       "sensor12 -0.724578 -0.680307 -0.815591  0.812713 -0.210238 -0.846884   \n",
       "sensor7  -0.702136 -0.664595 -0.793130  1.000000 -0.217835 -0.822805   \n",
       "sensor2   1.000000  0.602610  0.714949 -0.702136  0.273764  0.740020   \n",
       "\n",
       "          sensor12  sensor14  sensor17       RUL  \n",
       "RUL       0.671983 -0.306769 -0.606154  1.000000  \n",
       "sensor11 -0.846884  0.163408  0.722296 -0.696228  \n",
       "sensor4  -0.815591  0.190748  0.703499 -0.678948  \n",
       "sensor12  1.000000 -0.098141 -0.703485  0.671983  \n",
       "sensor7   0.812713 -0.110053 -0.692893  0.657223  \n",
       "sensor2  -0.724578  0.179752  0.629886 -0.606484  "
      ]
     },
     "execution_count": 13,
     "metadata": {},
     "output_type": "execute_result"
    }
   ],
   "source": [
    "data_cor.sort_values(by=['RUL'], ascending=False, key=abs).head(6)"
   ]
  }
 ],
 "metadata": {
  "kernelspec": {
   "display_name": "Python 3",
   "language": "python",
   "name": "python3"
  },
  "language_info": {
   "codemirror_mode": {
    "name": "ipython",
    "version": 3
   },
   "file_extension": ".py",
   "mimetype": "text/x-python",
   "name": "python",
   "nbconvert_exporter": "python",
   "pygments_lexer": "ipython3",
   "version": "3.7.12"
  },
  "papermill": {
   "default_parameters": {},
   "duration": 13.818394,
   "end_time": "2022-07-25T15:58:11.294046",
   "environment_variables": {},
   "exception": null,
   "input_path": "__notebook__.ipynb",
   "output_path": "__notebook__.ipynb",
   "parameters": {},
   "start_time": "2022-07-25T15:57:57.475652",
   "version": "2.3.4"
  }
 },
 "nbformat": 4,
 "nbformat_minor": 5
}
