{
  "nbformat": 4,
  "nbformat_minor": 0,
  "metadata": {
    "colab": {
      "name": "MLP.ipynb",
      "provenance": [],
      "collapsed_sections": [
        "opVL0vWfgsOj"
      ],
      "mount_file_id": "1pfBqoouCODE_EWFylweiGmhQCZ_HnOv3",
      "authorship_tag": "ABX9TyPZ7UVaycv3GpPNR66MfA4O",
      "include_colab_link": true
    },
    "kernelspec": {
      "name": "python3",
      "display_name": "Python 3"
    },
    "language_info": {
      "name": "python"
    }
  },
  "cells": [
    {
      "cell_type": "markdown",
      "metadata": {
        "id": "view-in-github",
        "colab_type": "text"
      },
      "source": [
        "<a href=\"https://colab.research.google.com/github/lucas-fpaiva/estatistica_pes/blob/main/MLP.ipynb\" target=\"_parent\"><img src=\"https://colab.research.google.com/assets/colab-badge.svg\" alt=\"Open In Colab\"/></a>"
      ]
    },
    {
      "cell_type": "markdown",
      "source": [
        "#Bibliotecas"
      ],
      "metadata": {
        "id": "xfjxoFowjUPS"
      }
    },
    {
      "cell_type": "code",
      "source": [
        "import pandas as pd \n",
        "import numpy as np \n",
        "import matplotlib.pyplot as plt \n",
        "import seaborn as sns \n",
        "import random as python_random\n",
        "import tensorflow as tf\n",
        "\n",
        "#IA\n",
        "import tensorflow as tf\n",
        "from keras.models import Sequential\n",
        "from keras.layers import Dense\n",
        "from keras.layers import LSTM\n",
        "from keras.layers import Dropout\n",
        "from keras.layers import GRU\n",
        "\n",
        "import warnings\n",
        "warnings.filterwarnings('ignore')\n",
        "% matplotlib inline"
      ],
      "metadata": {
        "id": "GnaYn5zJOK7o"
      },
      "execution_count": 1,
      "outputs": []
    },
    {
      "cell_type": "markdown",
      "source": [
        "#Funções"
      ],
      "metadata": {
        "id": "1hM-_6pGHg9v"
      }
    },
    {
      "cell_type": "code",
      "source": [
        "def reset_seeds():\n",
        "   np.random.seed(4) \n",
        "   python_random.seed(9498)\n",
        "   tf.random.set_seed(9)\n",
        "\n",
        "reset_seeds() \n",
        "\n",
        "def data_import(txt):\n",
        "  global columns\n",
        "  columns=[\"id\",\"cycle\",\"op1\",\"op2\",\"op3\",\"sensor1\",\"sensor2\",\"sensor3\",\"sensor4\",\"sensor5\",\"sensor6\",\"sensor7\",\"sensor8\",\n",
        "         \"sensor9\",\"sensor10\",\"sensor11\",\"sensor12\",\"sensor13\",\"sensor14\",\"sensor15\",\"sensor16\",\"sensor17\",\"sensor18\",\"sensor19\"\n",
        "         ,\"sensor20\",\"sensor21\"]\n",
        "  df = pd.read_csv(\"/content/drive/MyDrive/cmap/\"+txt, sep= \"\\s+\", header = None,names=columns )\n",
        "  return df\n",
        "\n",
        "def add_rul(g):\n",
        "    g['RUL'] = max(g['cycle']) - g['cycle']\n",
        "    return g\n",
        "\n",
        "def add_cycle2(g):\n",
        "    g['cycle2'] = 362 - g['RUL']\n",
        "    return g\n",
        "\n",
        "def new_data(train_data):\n",
        "        new_data = train_data[[\"id\",\"cycle\",\"op1\",\"op2\",\"op3\",\"RUL\"]]\n",
        "        new_data['sensor']=[columns[5]]*train_data.shape[0]\n",
        "        new_data['sensor_value']= train_data[columns[5]]\n",
        "        for column in columns[5:]:\n",
        "            temp_data = train_data[[\"id\",\"cycle\",\"op1\",\"op2\",\"op3\",\"RUL\"]]\n",
        "            temp_data['sensor']=[column]*train_data.shape[0];\n",
        "            temp_data['sensor_value']= train_data[column];\n",
        "            new_data = pd.concat([new_data,temp_data],ignore_index=True)\n",
        "        return new_data \n",
        "\n",
        "def Suavisar(train_data, mm):\n",
        "        new_data = train_data[[\"id\",\"cycle\",\"op1\",\"op2\",\"op3\",\"RUL\"]]\n",
        "        new_data['sensor_value']= train_data[columns[5]]\n",
        "        for column in columns[5:]:\n",
        "            temp_data = train_data[[\"id\",\"cycle\",\"op1\",\"op2\",\"op3\",\"RUL\"]]\n",
        "            temp_data['sensor']=[column]*train_data.shape[0];\n",
        "            temp_data['sensor_value']= train_data[column];\n",
        "            new_data = pd.concat([new_data,temp_data],ignore_index=True)\n",
        "        return new_data \n",
        "\n"
      ],
      "metadata": {
        "id": "tF4B5ivoCuCg"
      },
      "execution_count": 2,
      "outputs": []
    },
    {
      "cell_type": "code",
      "source": [
        ""
      ],
      "metadata": {
        "id": "2_1-19J6Sb-j"
      },
      "execution_count": 2,
      "outputs": []
    },
    {
      "cell_type": "markdown",
      "source": [
        "#Dados"
      ],
      "metadata": {
        "id": "spGvzj89HozO"
      }
    },
    {
      "cell_type": "code",
      "source": [
        "train_FD001 = data_import(\"train_FD001.txt\") \n",
        "train_FD002 = data_import(\"train_FD002.txt\") \n",
        "train_FD003 = data_import(\"train_FD003.txt\") \n",
        "train_FD004 = data_import(\"train_FD004.txt\") \n",
        "\n",
        "train_FD001 = train_FD001.groupby('id').apply(add_rul)\n",
        "train_FD002 = train_FD002.groupby('id').apply(add_rul)\n",
        "train_FD003 = train_FD003.groupby('id').apply(add_rul)\n",
        "train_FD004 = train_FD004.groupby('id').apply(add_rul)\n",
        "\n",
        "train_FD001_2 = train_FD001.groupby('id').apply(add_cycle2)\n",
        "train_FD002_2 = train_FD002.groupby('id').apply(add_cycle2)\n",
        "train_FD003_2 = train_FD003.groupby('id').apply(add_cycle2)\n",
        "train_FD004_2 = train_FD004.groupby('id').apply(add_cycle2)\n",
        "\n",
        "new_train_FD001 = new_data(train_FD001) \n",
        "new_train_FD002 = new_data(train_FD002) \n",
        "new_train_FD003 = new_data(train_FD003) \n",
        "new_train_FD004 = new_data(train_FD004) "
      ],
      "metadata": {
        "id": "Seg6i9hal9CD"
      },
      "execution_count": 3,
      "outputs": []
    },
    {
      "cell_type": "code",
      "source": [
        "from statistics import mean, median, mode, stdev, variance"
      ],
      "metadata": {
        "id": "U2XZ0L4BukQ3"
      },
      "execution_count": 4,
      "outputs": []
    },
    {
      "cell_type": "code",
      "source": [
        ""
      ],
      "metadata": {
        "id": "qlnT9B6hE4fl"
      },
      "execution_count": 4,
      "outputs": []
    },
    {
      "cell_type": "code",
      "source": [
        "max_list = []\n",
        "def add_rul(g):\n",
        "    global max_list\n",
        "    max_list.append(max(g['cycle']))\n",
        "    return g\n",
        "\n",
        "r = train_FD001.groupby('id').apply(add_rul)"
      ],
      "metadata": {
        "id": "ZORHvtQoJffp"
      },
      "execution_count": 5,
      "outputs": []
    },
    {
      "cell_type": "markdown",
      "source": [
        "#Parte2"
      ],
      "metadata": {
        "id": "h3Lzb_Nmg0Ec"
      }
    },
    {
      "cell_type": "code",
      "source": [
        "np.mean(np.array(max_list))"
      ],
      "metadata": {
        "colab": {
          "base_uri": "https://localhost:8080/"
        },
        "id": "0E7Vs0M5p0z2",
        "outputId": "a4ede004-d1dd-451f-8ac6-09f4bb8bbe81"
      },
      "execution_count": 6,
      "outputs": [
        {
          "output_type": "execute_result",
          "data": {
            "text/plain": [
              "206.31"
            ]
          },
          "metadata": {},
          "execution_count": 6
        }
      ]
    },
    {
      "cell_type": "code",
      "source": [
        "df2 = train_FD001_2[train_FD001_2[ 'cycle2' ] > 206]"
      ],
      "metadata": {
        "id": "v-uP_t-WXX9n"
      },
      "execution_count": 7,
      "outputs": []
    },
    {
      "cell_type": "code",
      "source": [
        "max_list = []\n",
        "def add_rul(g):\n",
        "    global max_list\n",
        "    max_list.append(max(g['cycle']+1-min(g['cycle'])))\n",
        "    return g\n",
        "\n",
        "r = df2.groupby('id').apply(add_rul)"
      ],
      "metadata": {
        "id": "vGg15wSoIzzL"
      },
      "execution_count": 8,
      "outputs": []
    },
    {
      "cell_type": "code",
      "source": [
        "Data = df2[0:156][[\"sensor2\",\"sensor3\",\"sensor4\",\"sensor7\",\"sensor8\",\n",
        "         \"sensor9\",\"sensor10\",\"sensor11\",\"sensor12\",\"sensor13\",\"sensor14\",\"sensor15\",\"sensor17\"\n",
        "         ,\"sensor20\",\"sensor21\"]].rolling(25).mean()\n",
        "k = 156\n",
        "\n",
        "for i in max_list[1:]:\n",
        "    data = df2[k:i+k][[\"sensor2\",\"sensor3\",\"sensor4\",\"sensor7\",\"sensor8\",\n",
        "         \"sensor9\",\"sensor10\",\"sensor11\",\"sensor12\",\"sensor13\",\"sensor14\",\"sensor15\",\"sensor17\"\n",
        "         ,\"sensor20\",\"sensor21\"]].rolling(25).mean()\n",
        "    Data = Data.append(data)\n",
        "\n",
        "    k =  k+i\n",
        "\n",
        "#df2[\"sensor2\"][0:192] = np.array([0,0])"
      ],
      "metadata": {
        "id": "GO_cOJLyI0TJ"
      },
      "execution_count": 9,
      "outputs": []
    },
    {
      "cell_type": "code",
      "source": [
        "new_data = df2[[\"id\",\"cycle2\",\"op1\",\"op2\",\"op3\",\"RUL\"]]\n",
        "new_data.reset_index(drop=True, inplace=True)\n",
        "Data.reset_index(drop=True, inplace=True)\n",
        "Data_S = pd.concat([new_data,Data], axis = 1)\n",
        "Data_S = Data_S.dropna(axis=0, subset=['sensor2'])"
      ],
      "metadata": {
        "id": "unq4diBvLqnw"
      },
      "execution_count": 10,
      "outputs": []
    },
    {
      "cell_type": "code",
      "source": [
        "Data_S['sensor4'].isna().sum()"
      ],
      "metadata": {
        "colab": {
          "base_uri": "https://localhost:8080/"
        },
        "id": "NmFbrkR7az-l",
        "outputId": "b5525228-f687-4ee5-b4bd-7de94dc6347a"
      },
      "execution_count": 12,
      "outputs": [
        {
          "output_type": "execute_result",
          "data": {
            "text/plain": [
              "0"
            ]
          },
          "metadata": {},
          "execution_count": 12
        }
      ]
    },
    {
      "cell_type": "markdown",
      "source": [
        "#Modelo"
      ],
      "metadata": {
        "id": "YmLds6Pa34_3"
      }
    },
    {
      "cell_type": "code",
      "source": [
        "df2=Data_S"
      ],
      "metadata": {
        "id": "wZS94_DTQRFt"
      },
      "execution_count": 13,
      "outputs": []
    },
    {
      "cell_type": "code",
      "source": [
        "#X = df2.drop(['RUL',\"sensor14\",\"sensor10\",\"sensor9\",\"sensor8\",\"op3\",\"op2\",\"op1\",'id', \"cycle2\"], axis = 1) \n",
        "#X = train.drop([\"RUL\"], axis = 1) \n",
        "X =df2[[\"sensor2\",\"sensor3\",\"sensor15\",\"sensor17\"]]\n",
        "y = df2['RUL']\n",
        "X=X.astype('float32')\n",
        "y=y.astype('float32')\n",
        "\n",
        "X_train = X \n",
        "y_train = y"
      ],
      "metadata": {
        "id": "yMSGSWW_C4MV"
      },
      "execution_count": 14,
      "outputs": []
    },
    {
      "cell_type": "code",
      "source": [
        "X_train.shape"
      ],
      "metadata": {
        "colab": {
          "base_uri": "https://localhost:8080/"
        },
        "id": "QiGmHoHKTJwX",
        "outputId": "5217030a-5312-4c9c-cf63-487f3011c74d"
      },
      "execution_count": 15,
      "outputs": [
        {
          "output_type": "execute_result",
          "data": {
            "text/plain": [
              "(13081, 4)"
            ]
          },
          "metadata": {},
          "execution_count": 15
        }
      ]
    },
    {
      "cell_type": "code",
      "source": [
        "from sklearn.preprocessing import MinMaxScaler\n",
        "scaler = MinMaxScaler(feature_range=(-1, 1)) \n",
        "X_train = scaler.fit_transform(X_train) "
      ],
      "metadata": {
        "id": "7afZl9M1FN2U"
      },
      "execution_count": 16,
      "outputs": []
    },
    {
      "cell_type": "code",
      "source": [
        "from tensorflow.keras.models import Sequential\n",
        "from tensorflow.keras.layers import Dense\n",
        "from tensorflow.keras.optimizers import Adam\n",
        "from tensorflow.keras.layers import Dropout\n",
        "model = Sequential()\n",
        "n= 256 \n",
        "n2 = 256 \n",
        "n3 =  128\n",
        "n4 =  256 \n",
        "n5=512\n",
        "model.add(Dense(3,activation='LeakyReLU', input_shape=(4,)))\n",
        "model.add(Dense(n,activation='LeakyReLU'))\n",
        "#model.add(Dropout(0.2))\n",
        "model.add(Dense(n2,activation='LeakyReLU'))\n",
        "model.add(Dense(n3,activation='LeakyReLU'))\n",
        "model.add(Dropout(0.2))\n",
        "model.add(Dense(n4,activation='LeakyReLU'))\n",
        "model.add(Dense(n5,activation='LeakyReLU'))\n",
        "#model.add(Dropout(0.2))\n",
        "model.add(Dense(1,activation='LeakyReLU'))\n",
        "model.compile(optimizer='adam', loss='mae')"
      ],
      "metadata": {
        "id": "OmRXnoeO3GtE"
      },
      "execution_count": 17,
      "outputs": []
    },
    {
      "cell_type": "code",
      "source": [
        "from tensorflow.keras.callbacks import EarlyStopping\n",
        "reset_seeds()\n",
        "early_stop = EarlyStopping(monitor='val_loss', mode='min', verbose=1, patience=10)\n",
        "model.fit(x=X_train,y=y_train.values,\n",
        "          validation_split=0.1,\n",
        "          batch_size=1024,epochs=90, callbacks=[early_stop])"
      ],
      "metadata": {
        "colab": {
          "base_uri": "https://localhost:8080/"
        },
        "id": "ubO4cmiZ3rKb",
        "outputId": "5ec3efc4-d508-43ec-e1d6-36feb26b17d4"
      },
      "execution_count": 18,
      "outputs": [
        {
          "output_type": "stream",
          "name": "stdout",
          "text": [
            "Epoch 1/90\n",
            "12/12 [==============================] - 1s 57ms/step - loss: 63.8007 - val_loss: 57.4958\n",
            "Epoch 2/90\n",
            "12/12 [==============================] - 1s 45ms/step - loss: 43.3321 - val_loss: 26.7382\n",
            "Epoch 3/90\n",
            "12/12 [==============================] - 1s 42ms/step - loss: 21.4620 - val_loss: 21.9155\n",
            "Epoch 4/90\n",
            "12/12 [==============================] - 1s 42ms/step - loss: 19.6668 - val_loss: 19.1348\n",
            "Epoch 5/90\n",
            "12/12 [==============================] - 0s 41ms/step - loss: 18.4625 - val_loss: 18.0473\n",
            "Epoch 6/90\n",
            "12/12 [==============================] - 0s 41ms/step - loss: 18.2958 - val_loss: 18.1710\n",
            "Epoch 7/90\n",
            "12/12 [==============================] - 1s 43ms/step - loss: 18.1350 - val_loss: 18.0248\n",
            "Epoch 8/90\n",
            "12/12 [==============================] - 1s 71ms/step - loss: 18.0655 - val_loss: 17.7793\n",
            "Epoch 9/90\n",
            "12/12 [==============================] - 1s 64ms/step - loss: 18.0939 - val_loss: 18.0786\n",
            "Epoch 10/90\n",
            "12/12 [==============================] - 1s 46ms/step - loss: 18.0672 - val_loss: 18.5073\n",
            "Epoch 11/90\n",
            "12/12 [==============================] - 1s 69ms/step - loss: 18.1465 - val_loss: 17.8693\n",
            "Epoch 12/90\n",
            "12/12 [==============================] - 1s 43ms/step - loss: 18.0167 - val_loss: 17.7815\n",
            "Epoch 13/90\n",
            "12/12 [==============================] - 1s 42ms/step - loss: 17.9493 - val_loss: 17.6597\n",
            "Epoch 14/90\n",
            "12/12 [==============================] - 1s 43ms/step - loss: 18.0107 - val_loss: 18.0058\n",
            "Epoch 15/90\n",
            "12/12 [==============================] - 1s 43ms/step - loss: 17.9441 - val_loss: 17.8630\n",
            "Epoch 16/90\n",
            "12/12 [==============================] - 1s 43ms/step - loss: 17.9131 - val_loss: 17.7468\n",
            "Epoch 17/90\n",
            "12/12 [==============================] - 1s 42ms/step - loss: 17.9914 - val_loss: 17.6930\n",
            "Epoch 18/90\n",
            "12/12 [==============================] - 1s 42ms/step - loss: 17.9218 - val_loss: 17.8561\n",
            "Epoch 19/90\n",
            "12/12 [==============================] - 0s 42ms/step - loss: 17.8463 - val_loss: 18.1158\n",
            "Epoch 20/90\n",
            "12/12 [==============================] - 1s 42ms/step - loss: 17.8563 - val_loss: 17.8205\n",
            "Epoch 21/90\n",
            "12/12 [==============================] - 1s 42ms/step - loss: 17.9098 - val_loss: 17.6813\n",
            "Epoch 22/90\n",
            "12/12 [==============================] - 1s 43ms/step - loss: 17.9041 - val_loss: 18.3913\n",
            "Epoch 23/90\n",
            "12/12 [==============================] - 1s 42ms/step - loss: 17.9217 - val_loss: 17.6154\n",
            "Epoch 24/90\n",
            "12/12 [==============================] - 1s 42ms/step - loss: 17.9339 - val_loss: 18.2949\n",
            "Epoch 25/90\n",
            "12/12 [==============================] - 0s 41ms/step - loss: 17.8682 - val_loss: 17.9800\n",
            "Epoch 26/90\n",
            "12/12 [==============================] - 1s 44ms/step - loss: 17.8579 - val_loss: 17.6939\n",
            "Epoch 27/90\n",
            "12/12 [==============================] - 1s 44ms/step - loss: 17.8056 - val_loss: 17.8758\n",
            "Epoch 28/90\n",
            "12/12 [==============================] - 1s 44ms/step - loss: 17.7579 - val_loss: 18.0610\n",
            "Epoch 29/90\n",
            "12/12 [==============================] - 1s 42ms/step - loss: 17.7573 - val_loss: 17.7146\n",
            "Epoch 30/90\n",
            "12/12 [==============================] - 1s 44ms/step - loss: 17.7365 - val_loss: 17.6881\n",
            "Epoch 31/90\n",
            "12/12 [==============================] - 1s 42ms/step - loss: 17.7847 - val_loss: 18.0817\n",
            "Epoch 32/90\n",
            "12/12 [==============================] - 1s 43ms/step - loss: 17.7983 - val_loss: 17.8086\n",
            "Epoch 33/90\n",
            "12/12 [==============================] - 1s 41ms/step - loss: 17.7470 - val_loss: 17.8090\n",
            "Epoch 33: early stopping\n"
          ]
        },
        {
          "output_type": "execute_result",
          "data": {
            "text/plain": [
              "<keras.callbacks.History at 0x7fe11c398e50>"
            ]
          },
          "metadata": {},
          "execution_count": 18
        }
      ]
    },
    {
      "cell_type": "markdown",
      "source": [
        "#Teste"
      ],
      "metadata": {
        "id": "uSiyL3F9yrKk"
      }
    },
    {
      "cell_type": "code",
      "source": [
        "columns=[\"id\",\"cycle\",\"op1\",\"op2\",\"op3\",\"sensor1\",\"sensor2\",\"sensor3\",\"sensor4\",\"sensor5\",\"sensor6\",\"sensor7\",\"sensor8\",\n",
        "         \"sensor9\",\"sensor10\",\"sensor11\",\"sensor12\",\"sensor13\",\"sensor14\",\"sensor15\",\"sensor16\",\"sensor17\",\"sensor18\",\"sensor19\"\n",
        "         ,\"sensor20\",\"sensor21\"]\n",
        "\n",
        "\n",
        "test_data = pd.read_csv(\"/content/drive/MyDrive/cmap/test_FD001.txt\", sep= \"\\s+\", header = None,names=columns)"
      ],
      "metadata": {
        "id": "CCRT9CDUJoAD"
      },
      "execution_count": 19,
      "outputs": []
    },
    {
      "cell_type": "code",
      "source": [
        "max_list = []\n",
        "def add_rul(g):\n",
        "    global max_list\n",
        "    max_list.append(max(g['cycle']))\n",
        "    return g\n",
        "\n",
        "r = test_data.groupby('id').apply(add_rul)"
      ],
      "metadata": {
        "id": "7US-DBEiNMGX"
      },
      "execution_count": 20,
      "outputs": []
    },
    {
      "cell_type": "code",
      "source": [
        "Data = test_data[0:31][[\"sensor2\",\"sensor3\",\"sensor4\",\"sensor7\",\"sensor8\",\n",
        "         \"sensor9\",\"sensor10\",\"sensor11\",\"sensor12\",\"sensor13\",\"sensor14\",\"sensor15\",\"sensor17\"\n",
        "         ,\"sensor20\",\"sensor21\"]].rolling(25).mean()\n",
        "k = 31\n",
        "\n",
        "for i in max_list[1:]:\n",
        "    data = test_data[k:i+k][[\"sensor2\",\"sensor3\",\"sensor4\",\"sensor7\",\"sensor8\",\n",
        "         \"sensor9\",\"sensor10\",\"sensor11\",\"sensor12\",\"sensor13\",\"sensor14\",\"sensor15\",\"sensor17\"\n",
        "         ,\"sensor20\",\"sensor21\"]].rolling(25).mean()\n",
        "    Data = Data.append(data)\n",
        "\n",
        "    k =  k+i"
      ],
      "metadata": {
        "id": "_tOSggm1c9rm"
      },
      "execution_count": 21,
      "outputs": []
    },
    {
      "cell_type": "code",
      "source": [
        "val = []\n",
        "s=0\n",
        "for i in max_list:\n",
        "  s = s+i\n",
        "  val.append(s-1)\n"
      ],
      "metadata": {
        "id": "LkzcC_ZENV4I"
      },
      "execution_count": 22,
      "outputs": []
    },
    {
      "cell_type": "code",
      "source": [
        "X = test_data.drop([\"sensor19\",\"sensor18\",\"sensor16\",\"sensor14\",\"sensor10\",\"sensor9\",\"sensor6\",\"sensor5\",\"sensor1\",\"op3\",\"op2\",\"op1\",'id', \"cycle\"], axis = 1) \n",
        "X = Data[[\"sensor2\",\"sensor3\",\"sensor15\",\"sensor17\"]]\n",
        "X=X.astype('float32')\n",
        "from sklearn.model_selection import train_test_split \n",
        "\n",
        "X_test = X \n",
        "X_test = scaler.fit_transform(X_test) \n"
      ],
      "metadata": {
        "id": "-FI5rAaTKA3a"
      },
      "execution_count": 23,
      "outputs": []
    },
    {
      "cell_type": "code",
      "source": [
        "x_test = []\n",
        "for i in val:\n",
        "  x_test.append(X_test[i])\n",
        "x_test = np.array([x_test])"
      ],
      "metadata": {
        "id": "y06JPZn48JUO"
      },
      "execution_count": 24,
      "outputs": []
    },
    {
      "cell_type": "code",
      "source": [
        "from sklearn.metrics import mean_squared_error, r2_score, mean_absolute_percentage_error,mean_absolute_error\n",
        "from sklearn.metrics import r2_score\n",
        "predictions = model.predict(x_test[0])\n",
        "#mean_absolute_error(y_test,predictions)"
      ],
      "metadata": {
        "id": "zv2nQ179GO88"
      },
      "execution_count": 25,
      "outputs": []
    },
    {
      "cell_type": "code",
      "source": [
        "p=predictions"
      ],
      "metadata": {
        "id": "wmSz-zWi-Rie"
      },
      "execution_count": 26,
      "outputs": []
    },
    {
      "cell_type": "code",
      "source": [
        "y_test = pd.read_csv(\"/content/drive/MyDrive/cmap/RUL_FD001.txt\", sep= \"\\s+\", header = None)"
      ],
      "metadata": {
        "id": "QVZ7VvIgGXY2"
      },
      "execution_count": 27,
      "outputs": []
    },
    {
      "cell_type": "code",
      "source": [
        "y_test = y_test.values\n",
        "p=np.reshape(p, len(p))\n",
        "y=np.array(y_test)\n",
        "y=np.reshape(y_test, len(y_test))"
      ],
      "metadata": {
        "id": "7GgokyhaOz-_"
      },
      "execution_count": 28,
      "outputs": []
    },
    {
      "cell_type": "markdown",
      "source": [
        "#Resultados"
      ],
      "metadata": {
        "id": "4h396IHNywjS"
      }
    },
    {
      "cell_type": "code",
      "source": [
        "mean_absolute_error(y,p)"
      ],
      "metadata": {
        "colab": {
          "base_uri": "https://localhost:8080/"
        },
        "id": "KAjFGCisBkUR",
        "outputId": "83ed1f2a-940d-44f7-eee5-377b4c3c7c8a"
      },
      "execution_count": 29,
      "outputs": [
        {
          "output_type": "execute_result",
          "data": {
            "text/plain": [
              "27.553237840943037"
            ]
          },
          "metadata": {},
          "execution_count": 29
        }
      ]
    },
    {
      "cell_type": "code",
      "source": [
        "mean_absolute_error(y,p)"
      ],
      "metadata": {
        "colab": {
          "base_uri": "https://localhost:8080/"
        },
        "id": "b7_D9QrT6Axe",
        "outputId": "930a9d4e-aec5-4176-c77a-9a88516a6c10"
      },
      "execution_count": 30,
      "outputs": [
        {
          "output_type": "execute_result",
          "data": {
            "text/plain": [
              "27.553237840943037"
            ]
          },
          "metadata": {},
          "execution_count": 30
        }
      ]
    },
    {
      "cell_type": "code",
      "source": [
        "mean_absolute_error(y[1:2],p[1:2])"
      ],
      "metadata": {
        "colab": {
          "base_uri": "https://localhost:8080/"
        },
        "id": "VwycRgPOSeWP",
        "outputId": "7e0c1a41-7cf8-4af0-d80f-79638715752c"
      },
      "execution_count": 31,
      "outputs": [
        {
          "output_type": "execute_result",
          "data": {
            "text/plain": [
              "30.973678588867188"
            ]
          },
          "metadata": {},
          "execution_count": 31
        }
      ]
    },
    {
      "cell_type": "code",
      "source": [
        "MAE = []\n",
        "RMSE = []\n",
        "for i in range(100):\n",
        "  MAE.append(mean_absolute_error(y[0+i:i+1],p[0+i:i+1]))\n",
        "  RMSE.append(np.sqrt(mean_squared_error(y[0+i:i+1],p[0+i:i+1])))\n"
      ],
      "metadata": {
        "id": "uny-m67RerhU"
      },
      "execution_count": 32,
      "outputs": []
    },
    {
      "cell_type": "code",
      "source": [
        "RMSE_new = np.sqrt(mean_squared_error(y,p))\n",
        "print(\"RMSE (Taking only last examples): \", RMSE_new)"
      ],
      "metadata": {
        "colab": {
          "base_uri": "https://localhost:8080/"
        },
        "id": "_ebEnUBv2FhC",
        "outputId": "95afa68c-12f7-4ba7-bcdc-f870c6c066e3"
      },
      "execution_count": 33,
      "outputs": [
        {
          "output_type": "stream",
          "name": "stdout",
          "text": [
            "RMSE (Taking only last examples):  34.94960352171008\n"
          ]
        }
      ]
    },
    {
      "cell_type": "code",
      "execution_count": 34,
      "metadata": {
        "id": "DRQzLFEMAhhz",
        "colab": {
          "base_uri": "https://localhost:8080/",
          "height": 542
        },
        "outputId": "2577765c-a2d0-4793-83ba-f64b29730df0"
      },
      "outputs": [
        {
          "output_type": "display_data",
          "data": {
            "text/html": [
              "<html>\n",
              "<head><meta charset=\"utf-8\" /></head>\n",
              "<body>\n",
              "    <div>            <script src=\"https://cdnjs.cloudflare.com/ajax/libs/mathjax/2.7.5/MathJax.js?config=TeX-AMS-MML_SVG\"></script><script type=\"text/javascript\">if (window.MathJax) {MathJax.Hub.Config({SVG: {font: \"STIX-Web\"}});}</script>                <script type=\"text/javascript\">window.PlotlyConfig = {MathJaxConfig: 'local'};</script>\n",
              "        <script src=\"https://cdn.plot.ly/plotly-2.8.3.min.js\"></script>                <div id=\"1ac1532f-4ec1-48a9-a83a-1a83de4cf8a6\" class=\"plotly-graph-div\" style=\"height:525px; width:100%;\"></div>            <script type=\"text/javascript\">                                    window.PLOTLYENV=window.PLOTLYENV || {};                                    if (document.getElementById(\"1ac1532f-4ec1-48a9-a83a-1a83de4cf8a6\")) {                    Plotly.newPlot(                        \"1ac1532f-4ec1-48a9-a83a-1a83de4cf8a6\",                        [{\"name\":\"previs\\u00e3o\",\"y\":[106.77045440673828,67.02632141113281,20.849910736083984,38.31536865234375,54.15911102294922,58.60806655883789,78.12284851074219,66.50556945800781,51.526123046875,73.93218994140625,43.39178466796875,83.94192504882812,66.60366821289062,47.85664367675781,84.46929931640625,85.21098327636719,56.43899154663086,56.01937484741211,84.9278793334961,2.567321300506592,80.84663391113281,77.08680725097656,100.17522430419922,22.32585334777832,81.12567138671875,96.86551666259766,82.71526336669922,57.73230743408203,67.79054260253906,32.19465637207031,-0.030766822397708893,73.14466094970703,39.07493591308594,1.0647008419036865,-0.741986870765686,2.0156893730163574,33.30967712402344,12.303580284118652,107.8782958984375,2.8850016593933105,35.72229766845703,6.209621429443359,27.485074996948242,65.57735443115234,30.21873664855957,18.24217414855957,57.724952697753906,71.9888916015625,5.045879364013672,90.14604949951172,84.5677261352539,34.87092208862305,25.165529251098633,101.58273315429688,78.24346923828125,1.0592114925384521,33.113033294677734,32.449947357177734,103.0093994140625,41.46404266357422,20.56142234802246,58.16575622558594,39.21290969848633,15.30009937286377,103.7024154663086,-0.03637305274605751,89.1422119140625,-0.6911593675613403,79.63309478759766,64.26029968261719,89.34716796875,64.3377685546875,87.55970764160156,66.1960678100586,84.85227966308594,-0.3755200207233429,21.951597213745117,121.92825317382812,85.4072036743164,71.51033782958984,-0.7943646311759949,7.843481540679932,77.75326538085938,24.933332443237305,54.99314880371094,70.69818115234375,104.45071411132812,56.94209671020508,58.64039993286133,9.816701889038086,1.7419425249099731,0.19066917896270752,10.966707229614258,17.99388313293457,86.07667541503906,99.49925994873047,70.58439636230469,60.22423553466797,116.87110900878906,16.408031463623047],\"type\":\"scatter\"},{\"name\":\"Dados\",\"y\":[112,98,69,82,91,93,91,95,111,96,97,124,95,107,83,84,50,28,87,16,57,111,113,20,145,119,66,97,90,115,8,48,106,7,11,19,21,50,142,28,18,10,59,109,114,47,135,92,21,79,114,29,26,97,137,15,103,37,114,100,21,54,72,28,128,14,77,8,121,94,118,50,131,126,113,10,34,107,63,90,8,9,137,58,118,89,116,115,136,28,38,20,85,55,128,137,82,59,117,20],\"type\":\"scatter\"}],                        {\"template\":{\"data\":{\"bar\":[{\"error_x\":{\"color\":\"#2a3f5f\"},\"error_y\":{\"color\":\"#2a3f5f\"},\"marker\":{\"line\":{\"color\":\"#E5ECF6\",\"width\":0.5},\"pattern\":{\"fillmode\":\"overlay\",\"size\":10,\"solidity\":0.2}},\"type\":\"bar\"}],\"barpolar\":[{\"marker\":{\"line\":{\"color\":\"#E5ECF6\",\"width\":0.5},\"pattern\":{\"fillmode\":\"overlay\",\"size\":10,\"solidity\":0.2}},\"type\":\"barpolar\"}],\"carpet\":[{\"aaxis\":{\"endlinecolor\":\"#2a3f5f\",\"gridcolor\":\"white\",\"linecolor\":\"white\",\"minorgridcolor\":\"white\",\"startlinecolor\":\"#2a3f5f\"},\"baxis\":{\"endlinecolor\":\"#2a3f5f\",\"gridcolor\":\"white\",\"linecolor\":\"white\",\"minorgridcolor\":\"white\",\"startlinecolor\":\"#2a3f5f\"},\"type\":\"carpet\"}],\"choropleth\":[{\"colorbar\":{\"outlinewidth\":0,\"ticks\":\"\"},\"type\":\"choropleth\"}],\"contour\":[{\"colorbar\":{\"outlinewidth\":0,\"ticks\":\"\"},\"colorscale\":[[0.0,\"#0d0887\"],[0.1111111111111111,\"#46039f\"],[0.2222222222222222,\"#7201a8\"],[0.3333333333333333,\"#9c179e\"],[0.4444444444444444,\"#bd3786\"],[0.5555555555555556,\"#d8576b\"],[0.6666666666666666,\"#ed7953\"],[0.7777777777777778,\"#fb9f3a\"],[0.8888888888888888,\"#fdca26\"],[1.0,\"#f0f921\"]],\"type\":\"contour\"}],\"contourcarpet\":[{\"colorbar\":{\"outlinewidth\":0,\"ticks\":\"\"},\"type\":\"contourcarpet\"}],\"heatmap\":[{\"colorbar\":{\"outlinewidth\":0,\"ticks\":\"\"},\"colorscale\":[[0.0,\"#0d0887\"],[0.1111111111111111,\"#46039f\"],[0.2222222222222222,\"#7201a8\"],[0.3333333333333333,\"#9c179e\"],[0.4444444444444444,\"#bd3786\"],[0.5555555555555556,\"#d8576b\"],[0.6666666666666666,\"#ed7953\"],[0.7777777777777778,\"#fb9f3a\"],[0.8888888888888888,\"#fdca26\"],[1.0,\"#f0f921\"]],\"type\":\"heatmap\"}],\"heatmapgl\":[{\"colorbar\":{\"outlinewidth\":0,\"ticks\":\"\"},\"colorscale\":[[0.0,\"#0d0887\"],[0.1111111111111111,\"#46039f\"],[0.2222222222222222,\"#7201a8\"],[0.3333333333333333,\"#9c179e\"],[0.4444444444444444,\"#bd3786\"],[0.5555555555555556,\"#d8576b\"],[0.6666666666666666,\"#ed7953\"],[0.7777777777777778,\"#fb9f3a\"],[0.8888888888888888,\"#fdca26\"],[1.0,\"#f0f921\"]],\"type\":\"heatmapgl\"}],\"histogram\":[{\"marker\":{\"pattern\":{\"fillmode\":\"overlay\",\"size\":10,\"solidity\":0.2}},\"type\":\"histogram\"}],\"histogram2d\":[{\"colorbar\":{\"outlinewidth\":0,\"ticks\":\"\"},\"colorscale\":[[0.0,\"#0d0887\"],[0.1111111111111111,\"#46039f\"],[0.2222222222222222,\"#7201a8\"],[0.3333333333333333,\"#9c179e\"],[0.4444444444444444,\"#bd3786\"],[0.5555555555555556,\"#d8576b\"],[0.6666666666666666,\"#ed7953\"],[0.7777777777777778,\"#fb9f3a\"],[0.8888888888888888,\"#fdca26\"],[1.0,\"#f0f921\"]],\"type\":\"histogram2d\"}],\"histogram2dcontour\":[{\"colorbar\":{\"outlinewidth\":0,\"ticks\":\"\"},\"colorscale\":[[0.0,\"#0d0887\"],[0.1111111111111111,\"#46039f\"],[0.2222222222222222,\"#7201a8\"],[0.3333333333333333,\"#9c179e\"],[0.4444444444444444,\"#bd3786\"],[0.5555555555555556,\"#d8576b\"],[0.6666666666666666,\"#ed7953\"],[0.7777777777777778,\"#fb9f3a\"],[0.8888888888888888,\"#fdca26\"],[1.0,\"#f0f921\"]],\"type\":\"histogram2dcontour\"}],\"mesh3d\":[{\"colorbar\":{\"outlinewidth\":0,\"ticks\":\"\"},\"type\":\"mesh3d\"}],\"parcoords\":[{\"line\":{\"colorbar\":{\"outlinewidth\":0,\"ticks\":\"\"}},\"type\":\"parcoords\"}],\"pie\":[{\"automargin\":true,\"type\":\"pie\"}],\"scatter\":[{\"marker\":{\"colorbar\":{\"outlinewidth\":0,\"ticks\":\"\"}},\"type\":\"scatter\"}],\"scatter3d\":[{\"line\":{\"colorbar\":{\"outlinewidth\":0,\"ticks\":\"\"}},\"marker\":{\"colorbar\":{\"outlinewidth\":0,\"ticks\":\"\"}},\"type\":\"scatter3d\"}],\"scattercarpet\":[{\"marker\":{\"colorbar\":{\"outlinewidth\":0,\"ticks\":\"\"}},\"type\":\"scattercarpet\"}],\"scattergeo\":[{\"marker\":{\"colorbar\":{\"outlinewidth\":0,\"ticks\":\"\"}},\"type\":\"scattergeo\"}],\"scattergl\":[{\"marker\":{\"colorbar\":{\"outlinewidth\":0,\"ticks\":\"\"}},\"type\":\"scattergl\"}],\"scattermapbox\":[{\"marker\":{\"colorbar\":{\"outlinewidth\":0,\"ticks\":\"\"}},\"type\":\"scattermapbox\"}],\"scatterpolar\":[{\"marker\":{\"colorbar\":{\"outlinewidth\":0,\"ticks\":\"\"}},\"type\":\"scatterpolar\"}],\"scatterpolargl\":[{\"marker\":{\"colorbar\":{\"outlinewidth\":0,\"ticks\":\"\"}},\"type\":\"scatterpolargl\"}],\"scatterternary\":[{\"marker\":{\"colorbar\":{\"outlinewidth\":0,\"ticks\":\"\"}},\"type\":\"scatterternary\"}],\"surface\":[{\"colorbar\":{\"outlinewidth\":0,\"ticks\":\"\"},\"colorscale\":[[0.0,\"#0d0887\"],[0.1111111111111111,\"#46039f\"],[0.2222222222222222,\"#7201a8\"],[0.3333333333333333,\"#9c179e\"],[0.4444444444444444,\"#bd3786\"],[0.5555555555555556,\"#d8576b\"],[0.6666666666666666,\"#ed7953\"],[0.7777777777777778,\"#fb9f3a\"],[0.8888888888888888,\"#fdca26\"],[1.0,\"#f0f921\"]],\"type\":\"surface\"}],\"table\":[{\"cells\":{\"fill\":{\"color\":\"#EBF0F8\"},\"line\":{\"color\":\"white\"}},\"header\":{\"fill\":{\"color\":\"#C8D4E3\"},\"line\":{\"color\":\"white\"}},\"type\":\"table\"}]},\"layout\":{\"annotationdefaults\":{\"arrowcolor\":\"#2a3f5f\",\"arrowhead\":0,\"arrowwidth\":1},\"autotypenumbers\":\"strict\",\"coloraxis\":{\"colorbar\":{\"outlinewidth\":0,\"ticks\":\"\"}},\"colorscale\":{\"diverging\":[[0,\"#8e0152\"],[0.1,\"#c51b7d\"],[0.2,\"#de77ae\"],[0.3,\"#f1b6da\"],[0.4,\"#fde0ef\"],[0.5,\"#f7f7f7\"],[0.6,\"#e6f5d0\"],[0.7,\"#b8e186\"],[0.8,\"#7fbc41\"],[0.9,\"#4d9221\"],[1,\"#276419\"]],\"sequential\":[[0.0,\"#0d0887\"],[0.1111111111111111,\"#46039f\"],[0.2222222222222222,\"#7201a8\"],[0.3333333333333333,\"#9c179e\"],[0.4444444444444444,\"#bd3786\"],[0.5555555555555556,\"#d8576b\"],[0.6666666666666666,\"#ed7953\"],[0.7777777777777778,\"#fb9f3a\"],[0.8888888888888888,\"#fdca26\"],[1.0,\"#f0f921\"]],\"sequentialminus\":[[0.0,\"#0d0887\"],[0.1111111111111111,\"#46039f\"],[0.2222222222222222,\"#7201a8\"],[0.3333333333333333,\"#9c179e\"],[0.4444444444444444,\"#bd3786\"],[0.5555555555555556,\"#d8576b\"],[0.6666666666666666,\"#ed7953\"],[0.7777777777777778,\"#fb9f3a\"],[0.8888888888888888,\"#fdca26\"],[1.0,\"#f0f921\"]]},\"colorway\":[\"#636efa\",\"#EF553B\",\"#00cc96\",\"#ab63fa\",\"#FFA15A\",\"#19d3f3\",\"#FF6692\",\"#B6E880\",\"#FF97FF\",\"#FECB52\"],\"font\":{\"color\":\"#2a3f5f\"},\"geo\":{\"bgcolor\":\"white\",\"lakecolor\":\"white\",\"landcolor\":\"#E5ECF6\",\"showlakes\":true,\"showland\":true,\"subunitcolor\":\"white\"},\"hoverlabel\":{\"align\":\"left\"},\"hovermode\":\"closest\",\"mapbox\":{\"style\":\"light\"},\"paper_bgcolor\":\"white\",\"plot_bgcolor\":\"#E5ECF6\",\"polar\":{\"angularaxis\":{\"gridcolor\":\"white\",\"linecolor\":\"white\",\"ticks\":\"\"},\"bgcolor\":\"#E5ECF6\",\"radialaxis\":{\"gridcolor\":\"white\",\"linecolor\":\"white\",\"ticks\":\"\"}},\"scene\":{\"xaxis\":{\"backgroundcolor\":\"#E5ECF6\",\"gridcolor\":\"white\",\"gridwidth\":2,\"linecolor\":\"white\",\"showbackground\":true,\"ticks\":\"\",\"zerolinecolor\":\"white\"},\"yaxis\":{\"backgroundcolor\":\"#E5ECF6\",\"gridcolor\":\"white\",\"gridwidth\":2,\"linecolor\":\"white\",\"showbackground\":true,\"ticks\":\"\",\"zerolinecolor\":\"white\"},\"zaxis\":{\"backgroundcolor\":\"#E5ECF6\",\"gridcolor\":\"white\",\"gridwidth\":2,\"linecolor\":\"white\",\"showbackground\":true,\"ticks\":\"\",\"zerolinecolor\":\"white\"}},\"shapedefaults\":{\"line\":{\"color\":\"#2a3f5f\"}},\"ternary\":{\"aaxis\":{\"gridcolor\":\"white\",\"linecolor\":\"white\",\"ticks\":\"\"},\"baxis\":{\"gridcolor\":\"white\",\"linecolor\":\"white\",\"ticks\":\"\"},\"bgcolor\":\"#E5ECF6\",\"caxis\":{\"gridcolor\":\"white\",\"linecolor\":\"white\",\"ticks\":\"\"}},\"title\":{\"x\":0.05},\"xaxis\":{\"automargin\":true,\"gridcolor\":\"white\",\"linecolor\":\"white\",\"ticks\":\"\",\"title\":{\"standoff\":15},\"zerolinecolor\":\"white\",\"zerolinewidth\":2},\"yaxis\":{\"automargin\":true,\"gridcolor\":\"white\",\"linecolor\":\"white\",\"ticks\":\"\",\"title\":{\"standoff\":15},\"zerolinecolor\":\"white\",\"zerolinewidth\":2}}},\"title\":{\"text\":\"Dados vs Previs\\u00e3o\"},\"xaxis\":{\"title\":{\"text\":\"Unidade\"}},\"yaxis\":{\"title\":{\"text\":\"RUL\"}}},                        {\"responsive\": true}                    ).then(function(){\n",
              "                            \n",
              "var gd = document.getElementById('1ac1532f-4ec1-48a9-a83a-1a83de4cf8a6');\n",
              "var x = new MutationObserver(function (mutations, observer) {{\n",
              "        var display = window.getComputedStyle(gd).display;\n",
              "        if (!display || display === 'none') {{\n",
              "            console.log([gd, 'removed!']);\n",
              "            Plotly.purge(gd);\n",
              "            observer.disconnect();\n",
              "        }}\n",
              "}});\n",
              "\n",
              "// Listen for the removal of the full notebook cells\n",
              "var notebookContainer = gd.closest('#notebook-container');\n",
              "if (notebookContainer) {{\n",
              "    x.observe(notebookContainer, {childList: true});\n",
              "}}\n",
              "\n",
              "// Listen for the clearing of the current output cell\n",
              "var outputEl = gd.closest('.output');\n",
              "if (outputEl) {{\n",
              "    x.observe(outputEl, {childList: true});\n",
              "}}\n",
              "\n",
              "                        })                };                            </script>        </div>\n",
              "</body>\n",
              "</html>"
            ]
          },
          "metadata": {}
        }
      ],
      "source": [
        "import plotly.graph_objects as go\n",
        "import matplotlib.pyplot as plt\n",
        "#p,y_test = zip(*sorted(zip(p,y_test)))\n",
        "fig = go.Figure()\n",
        "fig.add_trace(go.Scatter(y=p,name=\"previsão\"))#,mode='markers',marker_symbol=\"x\"))\n",
        "fig.add_trace(go.Scatter(y=y,name=\"Dados\"))#,mode='markers'))\n",
        "fig.update_layout(title='Dados vs Previsão',\n",
        "                   xaxis_title='Unidade',\n",
        "                   yaxis_title='RUL')\n",
        "fig.show()"
      ]
    },
    {
      "cell_type": "code",
      "source": [
        "import plotly.graph_objects as go\n",
        "import matplotlib.pyplot as plt\n",
        "#p,y_test = zip(*sorted(zip(p,y_test)))\n",
        "fig = go.Figure()\n",
        "fig.add_trace(go.Scatter(x=y,y=p,mode='markers'))\n",
        "fig.update_layout(title='Dados vs Previsão',\n",
        "                   xaxis_title='Dados',\n",
        "                   yaxis_title='Previsão',\n",
        "                  width=700,height=700)\n",
        "fig.show()"
      ],
      "metadata": {
        "colab": {
          "base_uri": "https://localhost:8080/",
          "height": 717
        },
        "id": "T5nJAqwbB5pJ",
        "outputId": "6acf0cbf-f123-4d98-af09-00ef68375526"
      },
      "execution_count": 35,
      "outputs": [
        {
          "output_type": "display_data",
          "data": {
            "text/html": [
              "<html>\n",
              "<head><meta charset=\"utf-8\" /></head>\n",
              "<body>\n",
              "    <div>            <script src=\"https://cdnjs.cloudflare.com/ajax/libs/mathjax/2.7.5/MathJax.js?config=TeX-AMS-MML_SVG\"></script><script type=\"text/javascript\">if (window.MathJax) {MathJax.Hub.Config({SVG: {font: \"STIX-Web\"}});}</script>                <script type=\"text/javascript\">window.PlotlyConfig = {MathJaxConfig: 'local'};</script>\n",
              "        <script src=\"https://cdn.plot.ly/plotly-2.8.3.min.js\"></script>                <div id=\"ea97118f-d305-481b-bf67-89f995219186\" class=\"plotly-graph-div\" style=\"height:700px; width:700px;\"></div>            <script type=\"text/javascript\">                                    window.PLOTLYENV=window.PLOTLYENV || {};                                    if (document.getElementById(\"ea97118f-d305-481b-bf67-89f995219186\")) {                    Plotly.newPlot(                        \"ea97118f-d305-481b-bf67-89f995219186\",                        [{\"mode\":\"markers\",\"x\":[112,98,69,82,91,93,91,95,111,96,97,124,95,107,83,84,50,28,87,16,57,111,113,20,145,119,66,97,90,115,8,48,106,7,11,19,21,50,142,28,18,10,59,109,114,47,135,92,21,79,114,29,26,97,137,15,103,37,114,100,21,54,72,28,128,14,77,8,121,94,118,50,131,126,113,10,34,107,63,90,8,9,137,58,118,89,116,115,136,28,38,20,85,55,128,137,82,59,117,20],\"y\":[106.77045440673828,67.02632141113281,20.849910736083984,38.31536865234375,54.15911102294922,58.60806655883789,78.12284851074219,66.50556945800781,51.526123046875,73.93218994140625,43.39178466796875,83.94192504882812,66.60366821289062,47.85664367675781,84.46929931640625,85.21098327636719,56.43899154663086,56.01937484741211,84.9278793334961,2.567321300506592,80.84663391113281,77.08680725097656,100.17522430419922,22.32585334777832,81.12567138671875,96.86551666259766,82.71526336669922,57.73230743408203,67.79054260253906,32.19465637207031,-0.030766822397708893,73.14466094970703,39.07493591308594,1.0647008419036865,-0.741986870765686,2.0156893730163574,33.30967712402344,12.303580284118652,107.8782958984375,2.8850016593933105,35.72229766845703,6.209621429443359,27.485074996948242,65.57735443115234,30.21873664855957,18.24217414855957,57.724952697753906,71.9888916015625,5.045879364013672,90.14604949951172,84.5677261352539,34.87092208862305,25.165529251098633,101.58273315429688,78.24346923828125,1.0592114925384521,33.113033294677734,32.449947357177734,103.0093994140625,41.46404266357422,20.56142234802246,58.16575622558594,39.21290969848633,15.30009937286377,103.7024154663086,-0.03637305274605751,89.1422119140625,-0.6911593675613403,79.63309478759766,64.26029968261719,89.34716796875,64.3377685546875,87.55970764160156,66.1960678100586,84.85227966308594,-0.3755200207233429,21.951597213745117,121.92825317382812,85.4072036743164,71.51033782958984,-0.7943646311759949,7.843481540679932,77.75326538085938,24.933332443237305,54.99314880371094,70.69818115234375,104.45071411132812,56.94209671020508,58.64039993286133,9.816701889038086,1.7419425249099731,0.19066917896270752,10.966707229614258,17.99388313293457,86.07667541503906,99.49925994873047,70.58439636230469,60.22423553466797,116.87110900878906,16.408031463623047],\"type\":\"scatter\"}],                        {\"template\":{\"data\":{\"bar\":[{\"error_x\":{\"color\":\"#2a3f5f\"},\"error_y\":{\"color\":\"#2a3f5f\"},\"marker\":{\"line\":{\"color\":\"#E5ECF6\",\"width\":0.5},\"pattern\":{\"fillmode\":\"overlay\",\"size\":10,\"solidity\":0.2}},\"type\":\"bar\"}],\"barpolar\":[{\"marker\":{\"line\":{\"color\":\"#E5ECF6\",\"width\":0.5},\"pattern\":{\"fillmode\":\"overlay\",\"size\":10,\"solidity\":0.2}},\"type\":\"barpolar\"}],\"carpet\":[{\"aaxis\":{\"endlinecolor\":\"#2a3f5f\",\"gridcolor\":\"white\",\"linecolor\":\"white\",\"minorgridcolor\":\"white\",\"startlinecolor\":\"#2a3f5f\"},\"baxis\":{\"endlinecolor\":\"#2a3f5f\",\"gridcolor\":\"white\",\"linecolor\":\"white\",\"minorgridcolor\":\"white\",\"startlinecolor\":\"#2a3f5f\"},\"type\":\"carpet\"}],\"choropleth\":[{\"colorbar\":{\"outlinewidth\":0,\"ticks\":\"\"},\"type\":\"choropleth\"}],\"contour\":[{\"colorbar\":{\"outlinewidth\":0,\"ticks\":\"\"},\"colorscale\":[[0.0,\"#0d0887\"],[0.1111111111111111,\"#46039f\"],[0.2222222222222222,\"#7201a8\"],[0.3333333333333333,\"#9c179e\"],[0.4444444444444444,\"#bd3786\"],[0.5555555555555556,\"#d8576b\"],[0.6666666666666666,\"#ed7953\"],[0.7777777777777778,\"#fb9f3a\"],[0.8888888888888888,\"#fdca26\"],[1.0,\"#f0f921\"]],\"type\":\"contour\"}],\"contourcarpet\":[{\"colorbar\":{\"outlinewidth\":0,\"ticks\":\"\"},\"type\":\"contourcarpet\"}],\"heatmap\":[{\"colorbar\":{\"outlinewidth\":0,\"ticks\":\"\"},\"colorscale\":[[0.0,\"#0d0887\"],[0.1111111111111111,\"#46039f\"],[0.2222222222222222,\"#7201a8\"],[0.3333333333333333,\"#9c179e\"],[0.4444444444444444,\"#bd3786\"],[0.5555555555555556,\"#d8576b\"],[0.6666666666666666,\"#ed7953\"],[0.7777777777777778,\"#fb9f3a\"],[0.8888888888888888,\"#fdca26\"],[1.0,\"#f0f921\"]],\"type\":\"heatmap\"}],\"heatmapgl\":[{\"colorbar\":{\"outlinewidth\":0,\"ticks\":\"\"},\"colorscale\":[[0.0,\"#0d0887\"],[0.1111111111111111,\"#46039f\"],[0.2222222222222222,\"#7201a8\"],[0.3333333333333333,\"#9c179e\"],[0.4444444444444444,\"#bd3786\"],[0.5555555555555556,\"#d8576b\"],[0.6666666666666666,\"#ed7953\"],[0.7777777777777778,\"#fb9f3a\"],[0.8888888888888888,\"#fdca26\"],[1.0,\"#f0f921\"]],\"type\":\"heatmapgl\"}],\"histogram\":[{\"marker\":{\"pattern\":{\"fillmode\":\"overlay\",\"size\":10,\"solidity\":0.2}},\"type\":\"histogram\"}],\"histogram2d\":[{\"colorbar\":{\"outlinewidth\":0,\"ticks\":\"\"},\"colorscale\":[[0.0,\"#0d0887\"],[0.1111111111111111,\"#46039f\"],[0.2222222222222222,\"#7201a8\"],[0.3333333333333333,\"#9c179e\"],[0.4444444444444444,\"#bd3786\"],[0.5555555555555556,\"#d8576b\"],[0.6666666666666666,\"#ed7953\"],[0.7777777777777778,\"#fb9f3a\"],[0.8888888888888888,\"#fdca26\"],[1.0,\"#f0f921\"]],\"type\":\"histogram2d\"}],\"histogram2dcontour\":[{\"colorbar\":{\"outlinewidth\":0,\"ticks\":\"\"},\"colorscale\":[[0.0,\"#0d0887\"],[0.1111111111111111,\"#46039f\"],[0.2222222222222222,\"#7201a8\"],[0.3333333333333333,\"#9c179e\"],[0.4444444444444444,\"#bd3786\"],[0.5555555555555556,\"#d8576b\"],[0.6666666666666666,\"#ed7953\"],[0.7777777777777778,\"#fb9f3a\"],[0.8888888888888888,\"#fdca26\"],[1.0,\"#f0f921\"]],\"type\":\"histogram2dcontour\"}],\"mesh3d\":[{\"colorbar\":{\"outlinewidth\":0,\"ticks\":\"\"},\"type\":\"mesh3d\"}],\"parcoords\":[{\"line\":{\"colorbar\":{\"outlinewidth\":0,\"ticks\":\"\"}},\"type\":\"parcoords\"}],\"pie\":[{\"automargin\":true,\"type\":\"pie\"}],\"scatter\":[{\"marker\":{\"colorbar\":{\"outlinewidth\":0,\"ticks\":\"\"}},\"type\":\"scatter\"}],\"scatter3d\":[{\"line\":{\"colorbar\":{\"outlinewidth\":0,\"ticks\":\"\"}},\"marker\":{\"colorbar\":{\"outlinewidth\":0,\"ticks\":\"\"}},\"type\":\"scatter3d\"}],\"scattercarpet\":[{\"marker\":{\"colorbar\":{\"outlinewidth\":0,\"ticks\":\"\"}},\"type\":\"scattercarpet\"}],\"scattergeo\":[{\"marker\":{\"colorbar\":{\"outlinewidth\":0,\"ticks\":\"\"}},\"type\":\"scattergeo\"}],\"scattergl\":[{\"marker\":{\"colorbar\":{\"outlinewidth\":0,\"ticks\":\"\"}},\"type\":\"scattergl\"}],\"scattermapbox\":[{\"marker\":{\"colorbar\":{\"outlinewidth\":0,\"ticks\":\"\"}},\"type\":\"scattermapbox\"}],\"scatterpolar\":[{\"marker\":{\"colorbar\":{\"outlinewidth\":0,\"ticks\":\"\"}},\"type\":\"scatterpolar\"}],\"scatterpolargl\":[{\"marker\":{\"colorbar\":{\"outlinewidth\":0,\"ticks\":\"\"}},\"type\":\"scatterpolargl\"}],\"scatterternary\":[{\"marker\":{\"colorbar\":{\"outlinewidth\":0,\"ticks\":\"\"}},\"type\":\"scatterternary\"}],\"surface\":[{\"colorbar\":{\"outlinewidth\":0,\"ticks\":\"\"},\"colorscale\":[[0.0,\"#0d0887\"],[0.1111111111111111,\"#46039f\"],[0.2222222222222222,\"#7201a8\"],[0.3333333333333333,\"#9c179e\"],[0.4444444444444444,\"#bd3786\"],[0.5555555555555556,\"#d8576b\"],[0.6666666666666666,\"#ed7953\"],[0.7777777777777778,\"#fb9f3a\"],[0.8888888888888888,\"#fdca26\"],[1.0,\"#f0f921\"]],\"type\":\"surface\"}],\"table\":[{\"cells\":{\"fill\":{\"color\":\"#EBF0F8\"},\"line\":{\"color\":\"white\"}},\"header\":{\"fill\":{\"color\":\"#C8D4E3\"},\"line\":{\"color\":\"white\"}},\"type\":\"table\"}]},\"layout\":{\"annotationdefaults\":{\"arrowcolor\":\"#2a3f5f\",\"arrowhead\":0,\"arrowwidth\":1},\"autotypenumbers\":\"strict\",\"coloraxis\":{\"colorbar\":{\"outlinewidth\":0,\"ticks\":\"\"}},\"colorscale\":{\"diverging\":[[0,\"#8e0152\"],[0.1,\"#c51b7d\"],[0.2,\"#de77ae\"],[0.3,\"#f1b6da\"],[0.4,\"#fde0ef\"],[0.5,\"#f7f7f7\"],[0.6,\"#e6f5d0\"],[0.7,\"#b8e186\"],[0.8,\"#7fbc41\"],[0.9,\"#4d9221\"],[1,\"#276419\"]],\"sequential\":[[0.0,\"#0d0887\"],[0.1111111111111111,\"#46039f\"],[0.2222222222222222,\"#7201a8\"],[0.3333333333333333,\"#9c179e\"],[0.4444444444444444,\"#bd3786\"],[0.5555555555555556,\"#d8576b\"],[0.6666666666666666,\"#ed7953\"],[0.7777777777777778,\"#fb9f3a\"],[0.8888888888888888,\"#fdca26\"],[1.0,\"#f0f921\"]],\"sequentialminus\":[[0.0,\"#0d0887\"],[0.1111111111111111,\"#46039f\"],[0.2222222222222222,\"#7201a8\"],[0.3333333333333333,\"#9c179e\"],[0.4444444444444444,\"#bd3786\"],[0.5555555555555556,\"#d8576b\"],[0.6666666666666666,\"#ed7953\"],[0.7777777777777778,\"#fb9f3a\"],[0.8888888888888888,\"#fdca26\"],[1.0,\"#f0f921\"]]},\"colorway\":[\"#636efa\",\"#EF553B\",\"#00cc96\",\"#ab63fa\",\"#FFA15A\",\"#19d3f3\",\"#FF6692\",\"#B6E880\",\"#FF97FF\",\"#FECB52\"],\"font\":{\"color\":\"#2a3f5f\"},\"geo\":{\"bgcolor\":\"white\",\"lakecolor\":\"white\",\"landcolor\":\"#E5ECF6\",\"showlakes\":true,\"showland\":true,\"subunitcolor\":\"white\"},\"hoverlabel\":{\"align\":\"left\"},\"hovermode\":\"closest\",\"mapbox\":{\"style\":\"light\"},\"paper_bgcolor\":\"white\",\"plot_bgcolor\":\"#E5ECF6\",\"polar\":{\"angularaxis\":{\"gridcolor\":\"white\",\"linecolor\":\"white\",\"ticks\":\"\"},\"bgcolor\":\"#E5ECF6\",\"radialaxis\":{\"gridcolor\":\"white\",\"linecolor\":\"white\",\"ticks\":\"\"}},\"scene\":{\"xaxis\":{\"backgroundcolor\":\"#E5ECF6\",\"gridcolor\":\"white\",\"gridwidth\":2,\"linecolor\":\"white\",\"showbackground\":true,\"ticks\":\"\",\"zerolinecolor\":\"white\"},\"yaxis\":{\"backgroundcolor\":\"#E5ECF6\",\"gridcolor\":\"white\",\"gridwidth\":2,\"linecolor\":\"white\",\"showbackground\":true,\"ticks\":\"\",\"zerolinecolor\":\"white\"},\"zaxis\":{\"backgroundcolor\":\"#E5ECF6\",\"gridcolor\":\"white\",\"gridwidth\":2,\"linecolor\":\"white\",\"showbackground\":true,\"ticks\":\"\",\"zerolinecolor\":\"white\"}},\"shapedefaults\":{\"line\":{\"color\":\"#2a3f5f\"}},\"ternary\":{\"aaxis\":{\"gridcolor\":\"white\",\"linecolor\":\"white\",\"ticks\":\"\"},\"baxis\":{\"gridcolor\":\"white\",\"linecolor\":\"white\",\"ticks\":\"\"},\"bgcolor\":\"#E5ECF6\",\"caxis\":{\"gridcolor\":\"white\",\"linecolor\":\"white\",\"ticks\":\"\"}},\"title\":{\"x\":0.05},\"xaxis\":{\"automargin\":true,\"gridcolor\":\"white\",\"linecolor\":\"white\",\"ticks\":\"\",\"title\":{\"standoff\":15},\"zerolinecolor\":\"white\",\"zerolinewidth\":2},\"yaxis\":{\"automargin\":true,\"gridcolor\":\"white\",\"linecolor\":\"white\",\"ticks\":\"\",\"title\":{\"standoff\":15},\"zerolinecolor\":\"white\",\"zerolinewidth\":2}}},\"title\":{\"text\":\"Dados vs Previs\\u00e3o\"},\"xaxis\":{\"title\":{\"text\":\"Dados\"}},\"yaxis\":{\"title\":{\"text\":\"Previs\\u00e3o\"}},\"width\":700,\"height\":700},                        {\"responsive\": true}                    ).then(function(){\n",
              "                            \n",
              "var gd = document.getElementById('ea97118f-d305-481b-bf67-89f995219186');\n",
              "var x = new MutationObserver(function (mutations, observer) {{\n",
              "        var display = window.getComputedStyle(gd).display;\n",
              "        if (!display || display === 'none') {{\n",
              "            console.log([gd, 'removed!']);\n",
              "            Plotly.purge(gd);\n",
              "            observer.disconnect();\n",
              "        }}\n",
              "}});\n",
              "\n",
              "// Listen for the removal of the full notebook cells\n",
              "var notebookContainer = gd.closest('#notebook-container');\n",
              "if (notebookContainer) {{\n",
              "    x.observe(notebookContainer, {childList: true});\n",
              "}}\n",
              "\n",
              "// Listen for the clearing of the current output cell\n",
              "var outputEl = gd.closest('.output');\n",
              "if (outputEl) {{\n",
              "    x.observe(outputEl, {childList: true});\n",
              "}}\n",
              "\n",
              "                        })                };                            </script>        </div>\n",
              "</body>\n",
              "</html>"
            ]
          },
          "metadata": {}
        }
      ]
    },
    {
      "cell_type": "code",
      "source": [
        "model.save(\"MLP.h5\")"
      ],
      "metadata": {
        "id": "hiUZ9cHmbhkc"
      },
      "execution_count": 36,
      "outputs": []
    }
  ]
}